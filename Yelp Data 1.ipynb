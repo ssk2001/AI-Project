{
 "cells": [
  {
   "cell_type": "code",
   "execution_count": 2,
   "id": "9b77fed2-6aef-4e1f-940b-c012113d3fbf",
   "metadata": {},
   "outputs": [
    {
     "name": "stdout",
     "output_type": "stream",
     "text": [
      "Requirement already satisfied: pandas in c:\\users\\user\\appdata\\local\\programs\\python\\python310\\lib\\site-packages (1.5.2)\n",
      "Requirement already satisfied: python-dateutil>=2.8.1 in c:\\users\\user\\appdata\\local\\programs\\python\\python310\\lib\\site-packages (from pandas) (2.8.2)\n",
      "Requirement already satisfied: pytz>=2020.1 in c:\\users\\user\\appdata\\local\\programs\\python\\python310\\lib\\site-packages (from pandas) (2022.7)\n",
      "Requirement already satisfied: numpy>=1.21.0 in c:\\users\\user\\appdata\\local\\programs\\python\\python310\\lib\\site-packages (from pandas) (1.24.1)\n",
      "Requirement already satisfied: six>=1.5 in c:\\users\\user\\appdata\\local\\programs\\python\\python310\\lib\\site-packages (from python-dateutil>=2.8.1->pandas) (1.16.0)\n"
     ]
    },
    {
     "name": "stderr",
     "output_type": "stream",
     "text": [
      "WARNING: You are using pip version 22.0.4; however, version 22.3.1 is available.\n",
      "You should consider upgrading via the 'C:\\Users\\User\\AppData\\Local\\Programs\\Python\\Python310\\python.exe -m pip install --upgrade pip' command.\n"
     ]
    }
   ],
   "source": [
    "!pip install pandas\n"
   ]
  },
  {
   "cell_type": "code",
   "execution_count": 3,
   "id": "eaff1e25-9260-4021-9526-11c7b605b409",
   "metadata": {},
   "outputs": [
    {
     "name": "stdout",
     "output_type": "stream",
     "text": [
      "Requirement already satisfied: matplotlib in c:\\users\\user\\appdata\\local\\programs\\python\\python310\\lib\\site-packages (3.6.2)\n",
      "Requirement already satisfied: pyparsing>=2.2.1 in c:\\users\\user\\appdata\\local\\programs\\python\\python310\\lib\\site-packages (from matplotlib) (3.0.9)\n",
      "Requirement already satisfied: python-dateutil>=2.7 in c:\\users\\user\\appdata\\local\\programs\\python\\python310\\lib\\site-packages (from matplotlib) (2.8.2)\n",
      "Requirement already satisfied: kiwisolver>=1.0.1 in c:\\users\\user\\appdata\\local\\programs\\python\\python310\\lib\\site-packages (from matplotlib) (1.4.4)\n",
      "Requirement already satisfied: numpy>=1.19 in c:\\users\\user\\appdata\\local\\programs\\python\\python310\\lib\\site-packages (from matplotlib) (1.24.1)\n",
      "Requirement already satisfied: cycler>=0.10 in c:\\users\\user\\appdata\\local\\programs\\python\\python310\\lib\\site-packages (from matplotlib) (0.11.0)\n",
      "Requirement already satisfied: pillow>=6.2.0 in c:\\users\\user\\appdata\\local\\programs\\python\\python310\\lib\\site-packages (from matplotlib) (9.3.0)\n",
      "Requirement already satisfied: contourpy>=1.0.1 in c:\\users\\user\\appdata\\local\\programs\\python\\python310\\lib\\site-packages (from matplotlib) (1.0.6)\n",
      "Requirement already satisfied: packaging>=20.0 in c:\\users\\user\\appdata\\local\\programs\\python\\python310\\lib\\site-packages (from matplotlib) (22.0)\n",
      "Requirement already satisfied: fonttools>=4.22.0 in c:\\users\\user\\appdata\\local\\programs\\python\\python310\\lib\\site-packages (from matplotlib) (4.38.0)\n",
      "Requirement already satisfied: six>=1.5 in c:\\users\\user\\appdata\\local\\programs\\python\\python310\\lib\\site-packages (from python-dateutil>=2.7->matplotlib) (1.16.0)\n"
     ]
    },
    {
     "name": "stderr",
     "output_type": "stream",
     "text": [
      "WARNING: You are using pip version 22.0.4; however, version 22.3.1 is available.\n",
      "You should consider upgrading via the 'C:\\Users\\User\\AppData\\Local\\Programs\\Python\\Python310\\python.exe -m pip install --upgrade pip' command.\n"
     ]
    }
   ],
   "source": [
    "!pip install matplotlib"
   ]
  },
  {
   "cell_type": "code",
   "execution_count": 4,
   "id": "60233b84-7903-4752-aff8-8b25d4f4edbd",
   "metadata": {},
   "outputs": [
    {
     "name": "stdout",
     "output_type": "stream",
     "text": [
      "Requirement already satisfied: seaborn in c:\\users\\user\\appdata\\local\\programs\\python\\python310\\lib\\site-packages (0.12.1)\n",
      "Requirement already satisfied: pandas>=0.25 in c:\\users\\user\\appdata\\local\\programs\\python\\python310\\lib\\site-packages (from seaborn) (1.5.2)\n",
      "Requirement already satisfied: matplotlib!=3.6.1,>=3.1 in c:\\users\\user\\appdata\\local\\programs\\python\\python310\\lib\\site-packages (from seaborn) (3.6.2)\n",
      "Requirement already satisfied: numpy>=1.17 in c:\\users\\user\\appdata\\local\\programs\\python\\python310\\lib\\site-packages (from seaborn) (1.24.1)\n",
      "Requirement already satisfied: packaging>=20.0 in c:\\users\\user\\appdata\\local\\programs\\python\\python310\\lib\\site-packages (from matplotlib!=3.6.1,>=3.1->seaborn) (22.0)\n",
      "Requirement already satisfied: pillow>=6.2.0 in c:\\users\\user\\appdata\\local\\programs\\python\\python310\\lib\\site-packages (from matplotlib!=3.6.1,>=3.1->seaborn) (9.3.0)\n",
      "Requirement already satisfied: kiwisolver>=1.0.1 in c:\\users\\user\\appdata\\local\\programs\\python\\python310\\lib\\site-packages (from matplotlib!=3.6.1,>=3.1->seaborn) (1.4.4)\n",
      "Requirement already satisfied: pyparsing>=2.2.1 in c:\\users\\user\\appdata\\local\\programs\\python\\python310\\lib\\site-packages (from matplotlib!=3.6.1,>=3.1->seaborn) (3.0.9)\n",
      "Requirement already satisfied: cycler>=0.10 in c:\\users\\user\\appdata\\local\\programs\\python\\python310\\lib\\site-packages (from matplotlib!=3.6.1,>=3.1->seaborn) (0.11.0)\n",
      "Requirement already satisfied: contourpy>=1.0.1 in c:\\users\\user\\appdata\\local\\programs\\python\\python310\\lib\\site-packages (from matplotlib!=3.6.1,>=3.1->seaborn) (1.0.6)\n",
      "Requirement already satisfied: fonttools>=4.22.0 in c:\\users\\user\\appdata\\local\\programs\\python\\python310\\lib\\site-packages (from matplotlib!=3.6.1,>=3.1->seaborn) (4.38.0)\n",
      "Requirement already satisfied: python-dateutil>=2.7 in c:\\users\\user\\appdata\\local\\programs\\python\\python310\\lib\\site-packages (from matplotlib!=3.6.1,>=3.1->seaborn) (2.8.2)\n",
      "Requirement already satisfied: pytz>=2020.1 in c:\\users\\user\\appdata\\local\\programs\\python\\python310\\lib\\site-packages (from pandas>=0.25->seaborn) (2022.7)\n",
      "Requirement already satisfied: six>=1.5 in c:\\users\\user\\appdata\\local\\programs\\python\\python310\\lib\\site-packages (from python-dateutil>=2.7->matplotlib!=3.6.1,>=3.1->seaborn) (1.16.0)\n"
     ]
    },
    {
     "name": "stderr",
     "output_type": "stream",
     "text": [
      "WARNING: You are using pip version 22.0.4; however, version 22.3.1 is available.\n",
      "You should consider upgrading via the 'C:\\Users\\User\\AppData\\Local\\Programs\\Python\\Python310\\python.exe -m pip install --upgrade pip' command.\n"
     ]
    }
   ],
   "source": [
    "!pip install seaborn"
   ]
  },
  {
   "cell_type": "code",
   "execution_count": 5,
   "id": "bf2e1a22-2b46-4e50-bc3c-e105abd9aa2e",
   "metadata": {},
   "outputs": [
    {
     "name": "stdout",
     "output_type": "stream",
     "text": [
      "Collecting ast\n",
      "  Using cached AST-0.0.2.tar.gz (19 kB)\n",
      "  Preparing metadata (setup.py): started\n",
      "  Preparing metadata (setup.py): finished with status 'error'\n"
     ]
    },
    {
     "name": "stderr",
     "output_type": "stream",
     "text": [
      "  error: subprocess-exited-with-error\n",
      "  \n",
      "  python setup.py egg_info did not run successfully.\n",
      "  exit code: 1\n",
      "  \n",
      "  [8 lines of output]\n",
      "  Traceback (most recent call last):\n",
      "    File \"<string>\", line 2, in <module>\n",
      "    File \"<pip-setuptools-caller>\", line 34, in <module>\n",
      "    File \"C:\\Users\\User\\AppData\\Local\\Temp\\pip-install-80ljvwld\\ast_f51b136e05a34d35b97554f247044b1a\\setup.py\", line 6, in <module>\n",
      "      README = codecs.open(os.path.join(here, 'AST/README'), encoding='utf8').read()\n",
      "    File \"C:\\Users\\User\\AppData\\Local\\Programs\\Python\\Python310\\lib\\codecs.py\", line 905, in open\n",
      "      file = builtins.open(filename, mode, buffering)\n",
      "  FileNotFoundError: [Errno 2] No such file or directory: 'C:\\\\Users\\\\User\\\\AppData\\\\Local\\\\Temp\\\\pip-install-80ljvwld\\\\ast_f51b136e05a34d35b97554f247044b1a\\\\AST/README'\n",
      "  [end of output]\n",
      "  \n",
      "  note: This error originates from a subprocess, and is likely not a problem with pip.\n",
      "error: metadata-generation-failed\n",
      "\n",
      "Encountered error while generating package metadata.\n",
      "\n",
      "See above for output.\n",
      "\n",
      "note: This is an issue with the package mentioned above, not pip.\n",
      "hint: See above for details.\n",
      "WARNING: You are using pip version 22.0.4; however, version 22.3.1 is available.\n",
      "You should consider upgrading via the 'C:\\Users\\User\\AppData\\Local\\Programs\\Python\\Python310\\python.exe -m pip install --upgrade pip' command.\n"
     ]
    }
   ],
   "source": [
    "!pip install ast"
   ]
  },
  {
   "cell_type": "code",
   "execution_count": 6,
   "id": "8c30de4c-ef48-4bd8-a8e3-170bf4ee4cf6",
   "metadata": {},
   "outputs": [
    {
     "name": "stdout",
     "output_type": "stream",
     "text": [
      "Requirement already satisfied: wordcloud in c:\\users\\user\\appdata\\local\\programs\\python\\python310\\lib\\site-packages (1.8.2.2)\n",
      "Requirement already satisfied: matplotlib in c:\\users\\user\\appdata\\local\\programs\\python\\python310\\lib\\site-packages (from wordcloud) (3.6.2)\n",
      "Requirement already satisfied: numpy>=1.6.1 in c:\\users\\user\\appdata\\local\\programs\\python\\python310\\lib\\site-packages (from wordcloud) (1.24.1)\n",
      "Requirement already satisfied: pillow in c:\\users\\user\\appdata\\local\\programs\\python\\python310\\lib\\site-packages (from wordcloud) (9.3.0)\n",
      "Requirement already satisfied: fonttools>=4.22.0 in c:\\users\\user\\appdata\\local\\programs\\python\\python310\\lib\\site-packages (from matplotlib->wordcloud) (4.38.0)\n",
      "Requirement already satisfied: cycler>=0.10 in c:\\users\\user\\appdata\\local\\programs\\python\\python310\\lib\\site-packages (from matplotlib->wordcloud) (0.11.0)\n",
      "Requirement already satisfied: pyparsing>=2.2.1 in c:\\users\\user\\appdata\\local\\programs\\python\\python310\\lib\\site-packages (from matplotlib->wordcloud) (3.0.9)\n",
      "Requirement already satisfied: kiwisolver>=1.0.1 in c:\\users\\user\\appdata\\local\\programs\\python\\python310\\lib\\site-packages (from matplotlib->wordcloud) (1.4.4)\n",
      "Requirement already satisfied: contourpy>=1.0.1 in c:\\users\\user\\appdata\\local\\programs\\python\\python310\\lib\\site-packages (from matplotlib->wordcloud) (1.0.6)\n",
      "Requirement already satisfied: packaging>=20.0 in c:\\users\\user\\appdata\\local\\programs\\python\\python310\\lib\\site-packages (from matplotlib->wordcloud) (22.0)\n",
      "Requirement already satisfied: python-dateutil>=2.7 in c:\\users\\user\\appdata\\local\\programs\\python\\python310\\lib\\site-packages (from matplotlib->wordcloud) (2.8.2)\n",
      "Requirement already satisfied: six>=1.5 in c:\\users\\user\\appdata\\local\\programs\\python\\python310\\lib\\site-packages (from python-dateutil>=2.7->matplotlib->wordcloud) (1.16.0)\n"
     ]
    },
    {
     "name": "stderr",
     "output_type": "stream",
     "text": [
      "WARNING: You are using pip version 22.0.4; however, version 22.3.1 is available.\n",
      "You should consider upgrading via the 'C:\\Users\\User\\AppData\\Local\\Programs\\Python\\Python310\\python.exe -m pip install --upgrade pip' command.\n"
     ]
    }
   ],
   "source": [
    "!pip install wordcloud"
   ]
  },
  {
   "cell_type": "code",
   "execution_count": 7,
   "id": "fe09cfae-5fe5-424a-94bc-38182cfc47f4",
   "metadata": {},
   "outputs": [
    {
     "name": "stderr",
     "output_type": "stream",
     "text": [
      "ERROR: Could not find a version that satisfies the requirement sklearn.preprocessing (from versions: none)\n",
      "ERROR: No matching distribution found for sklearn.preprocessing\n",
      "WARNING: You are using pip version 22.0.4; however, version 22.3.1 is available.\n",
      "You should consider upgrading via the 'C:\\Users\\User\\AppData\\Local\\Programs\\Python\\Python310\\python.exe -m pip install --upgrade pip' command.\n"
     ]
    }
   ],
   "source": [
    "!pip install sklearn.preprocessing"
   ]
  },
  {
   "cell_type": "code",
   "execution_count": 8,
   "id": "26281270-4a70-4194-b248-60d50d1e0894",
   "metadata": {},
   "outputs": [
    {
     "name": "stdout",
     "output_type": "stream",
     "text": [
      "Requirement already satisfied: sklearn in c:\\users\\user\\appdata\\local\\programs\\python\\python310\\lib\\site-packages (0.0.post1)\n"
     ]
    },
    {
     "name": "stderr",
     "output_type": "stream",
     "text": [
      "WARNING: You are using pip version 22.0.4; however, version 22.3.1 is available.\n",
      "You should consider upgrading via the 'C:\\Users\\User\\AppData\\Local\\Programs\\Python\\Python310\\python.exe -m pip install --upgrade pip' command.\n"
     ]
    }
   ],
   "source": [
    "!pip install sklearn"
   ]
  },
  {
   "cell_type": "code",
   "execution_count": 9,
   "id": "084b84e6-e654-4667-a337-118e6bdd040c",
   "metadata": {},
   "outputs": [
    {
     "name": "stdout",
     "output_type": "stream",
     "text": [
      "Requirement already satisfied: joblib in c:\\users\\user\\appdata\\local\\programs\\python\\python310\\lib\\site-packages (1.2.0)\n"
     ]
    },
    {
     "name": "stderr",
     "output_type": "stream",
     "text": [
      "WARNING: You are using pip version 22.0.4; however, version 22.3.1 is available.\n",
      "You should consider upgrading via the 'C:\\Users\\User\\AppData\\Local\\Programs\\Python\\Python310\\python.exe -m pip install --upgrade pip' command.\n"
     ]
    }
   ],
   "source": [
    "!pip install joblib"
   ]
  },
  {
   "cell_type": "code",
   "execution_count": 10,
   "id": "4a36a426-2471-48b7-b556-79050c444564",
   "metadata": {},
   "outputs": [
    {
     "name": "stdout",
     "output_type": "stream",
     "text": [
      "Requirement already satisfied: sklearn in c:\\users\\user\\appdata\\local\\programs\\python\\python310\\lib\\site-packages (0.0.post1)\n"
     ]
    },
    {
     "name": "stderr",
     "output_type": "stream",
     "text": [
      "WARNING: You are using pip version 22.0.4; however, version 22.3.1 is available.\n",
      "You should consider upgrading via the 'C:\\Users\\User\\AppData\\Local\\Programs\\Python\\Python310\\python.exe -m pip install --upgrade pip' command.\n"
     ]
    }
   ],
   "source": [
    "!pip install sklearn"
   ]
  },
  {
   "cell_type": "code",
   "execution_count": 11,
   "id": "ac4863ae-dd7c-4452-a8cf-61837110db41",
   "metadata": {},
   "outputs": [
    {
     "name": "stdout",
     "output_type": "stream",
     "text": [
      "Requirement already satisfied: xgboost in c:\\users\\user\\appdata\\local\\programs\\python\\python310\\lib\\site-packages (1.7.2)\n",
      "Requirement already satisfied: scipy in c:\\users\\user\\appdata\\local\\programs\\python\\python310\\lib\\site-packages (from xgboost) (1.9.3)\n",
      "Requirement already satisfied: numpy in c:\\users\\user\\appdata\\local\\programs\\python\\python310\\lib\\site-packages (from xgboost) (1.24.1)\n"
     ]
    },
    {
     "name": "stderr",
     "output_type": "stream",
     "text": [
      "WARNING: You are using pip version 22.0.4; however, version 22.3.1 is available.\n",
      "You should consider upgrading via the 'C:\\Users\\User\\AppData\\Local\\Programs\\Python\\Python310\\python.exe -m pip install --upgrade pip' command.\n"
     ]
    }
   ],
   "source": [
    "!pip install xgboost"
   ]
  },
  {
   "cell_type": "code",
   "execution_count": 4,
   "id": "10bf975b-b9ed-434c-8238-7b1f637ec19f",
   "metadata": {},
   "outputs": [],
   "source": [
    "#import necessary libraries\n",
    "import pandas as pd\n",
    "import numpy as np\n",
    "import matplotlib.pyplot as plt\n",
    "import seaborn as sns\n",
    "import ast\n",
    "\n",
    "from wordcloud import WordCloud, STOPWORDS\n",
    "from sklearn.preprocessing import OneHotEncoder\n",
    "\n",
    "from joblib import dump,load\n",
    "# %matplotlib notebook\n",
    "%matplotlib inline\n",
    "\n",
    "import warnings\n",
    "warnings.filterwarnings('ignore')\n",
    "\n",
    "from sklearn.linear_model import LinearRegression\n",
    "from sklearn import linear_model\n",
    "from sklearn.ensemble import RandomForestRegressor\n",
    "from sklearn.preprocessing import OneHotEncoder\n",
    "from sklearn.model_selection import train_test_split\n",
    "from sklearn.metrics import make_scorer\n",
    "from sklearn.model_selection import GridSearchCV\n",
    "from sklearn import metrics\n",
    "\n",
    "import random\n",
    "from xgboost import XGBClassifier\n",
    "from sklearn.ensemble import RandomForestRegressor"
   ]
  },
  {
   "cell_type": "code",
   "execution_count": 166,
   "id": "355d63e5-a8c5-4ea9-922a-9bdbc0e3d5ca",
   "metadata": {},
   "outputs": [],
   "source": [
    "data = pd.read_csv('Yelp Restaurants Data 1.csv')"
   ]
  },
  {
   "cell_type": "code",
   "execution_count": 6,
   "id": "b65e723c-81b2-42b4-baf2-6848ecad15a2",
   "metadata": {},
   "outputs": [
    {
     "data": {
      "text/plain": [
       "(20, 94)"
      ]
     },
     "execution_count": 6,
     "metadata": {},
     "output_type": "execute_result"
    }
   ],
   "source": [
    "data.shape"
   ]
  },
  {
   "cell_type": "code",
   "execution_count": 7,
   "id": "7dc314c0-c690-47e6-a503-b6c2d6ab55bc",
   "metadata": {},
   "outputs": [
    {
     "data": {
      "text/html": [
       "<div>\n",
       "<style scoped>\n",
       "    .dataframe tbody tr th:only-of-type {\n",
       "        vertical-align: middle;\n",
       "    }\n",
       "\n",
       "    .dataframe tbody tr th {\n",
       "        vertical-align: top;\n",
       "    }\n",
       "\n",
       "    .dataframe thead th {\n",
       "        text-align: right;\n",
       "    }\n",
       "</style>\n",
       "<table border=\"1\" class=\"dataframe\">\n",
       "  <thead>\n",
       "    <tr style=\"text-align: right;\">\n",
       "      <th></th>\n",
       "      <th>Restaurant Name</th>\n",
       "      <th>Address Line 1</th>\n",
       "      <th>City</th>\n",
       "      <th>State</th>\n",
       "      <th>Postal Code</th>\n",
       "      <th>Cuisine Type</th>\n",
       "      <th>Phone</th>\n",
       "      <th>StoreTiming-Mon</th>\n",
       "      <th>StoreTiming-Tue</th>\n",
       "      <th>StoreTiming-Wed</th>\n",
       "      <th>...</th>\n",
       "      <th>Claimed</th>\n",
       "      <th>Open Now (Y/N)</th>\n",
       "      <th>Payment Options (Black)</th>\n",
       "      <th>Category</th>\n",
       "      <th>website</th>\n",
       "      <th>Description</th>\n",
       "      <th>Refernce URL</th>\n",
       "      <th>black_owned</th>\n",
       "      <th>source</th>\n",
       "      <th>uid</th>\n",
       "    </tr>\n",
       "  </thead>\n",
       "  <tbody>\n",
       "    <tr>\n",
       "      <th>0</th>\n",
       "      <td>Nopa</td>\n",
       "      <td>560 Divisadero St</td>\n",
       "      <td>San Francisco</td>\n",
       "      <td>CA</td>\n",
       "      <td>94117</td>\n",
       "      <td>American (New), Desserts, Cocktail Bars</td>\n",
       "      <td>(415) 864-8643</td>\n",
       "      <td>Closed</td>\n",
       "      <td>5:30 PM - 10:00 PM</td>\n",
       "      <td>5:30 PM - 10:00 PM</td>\n",
       "      <td>...</td>\n",
       "      <td>Y</td>\n",
       "      <td>N</td>\n",
       "      <td>Accepts Credit Cards</td>\n",
       "      <td>Restaurants</td>\n",
       "      <td>nopasf.com</td>\n",
       "      <td>Specializing in organic wood-fired cuisine, we...</td>\n",
       "      <td>https://www.yelp.com/biz/nopa-san-francisco?os...</td>\n",
       "      <td>N</td>\n",
       "      <td>yelp.com</td>\n",
       "      <td>nopa-san-francisco?osq=Restaurants</td>\n",
       "    </tr>\n",
       "    <tr>\n",
       "      <th>1</th>\n",
       "      <td>Phat Thai</td>\n",
       "      <td>-</td>\n",
       "      <td>San Francisco</td>\n",
       "      <td>CA</td>\n",
       "      <td>94118</td>\n",
       "      <td>Thai, Food Trucks</td>\n",
       "      <td>(415) 684-4702</td>\n",
       "      <td>11:00 AM - 10:00 PM</td>\n",
       "      <td>11:00 AM - 10:00 PM</td>\n",
       "      <td>Closed</td>\n",
       "      <td>...</td>\n",
       "      <td>N</td>\n",
       "      <td>N</td>\n",
       "      <td>Accepts Credit Cards</td>\n",
       "      <td>Restaurants</td>\n",
       "      <td>phatthaisf.com</td>\n",
       "      <td>-</td>\n",
       "      <td>https://www.yelp.com/biz/phat-thai-san-francis...</td>\n",
       "      <td>N</td>\n",
       "      <td>yelp.com</td>\n",
       "      <td>phat-thai-san-francisco-2?osq=Restaurants</td>\n",
       "    </tr>\n",
       "    <tr>\n",
       "      <th>2</th>\n",
       "      <td>Che Fico Alimentari</td>\n",
       "      <td>834 Divisadero St</td>\n",
       "      <td>San Francisco</td>\n",
       "      <td>CA</td>\n",
       "      <td>94117</td>\n",
       "      <td>Italian</td>\n",
       "      <td>(415) 416-6980</td>\n",
       "      <td>5:00 PM - 9:00 PM</td>\n",
       "      <td>5:00 PM - 9:00 PM</td>\n",
       "      <td>5:00 PM - 9:00 PM</td>\n",
       "      <td>...</td>\n",
       "      <td>Y</td>\n",
       "      <td>N</td>\n",
       "      <td>Accepts Credit Cards</td>\n",
       "      <td>Restaurants</td>\n",
       "      <td>cheficoalimentari.com</td>\n",
       "      <td>-</td>\n",
       "      <td>https://www.yelp.com/biz/che-fico-alimentari-s...</td>\n",
       "      <td>N</td>\n",
       "      <td>yelp.com</td>\n",
       "      <td>che-fico-alimentari-san-francisco?osq=Restaurants</td>\n",
       "    </tr>\n",
       "    <tr>\n",
       "      <th>3</th>\n",
       "      <td>Coco's Sushi &amp; Izakaya</td>\n",
       "      <td>3319 Mission St</td>\n",
       "      <td>San Francisco</td>\n",
       "      <td>CA</td>\n",
       "      <td>94110</td>\n",
       "      <td>Sushi Bars</td>\n",
       "      <td>(415) 553-6062</td>\n",
       "      <td>11:00 AM - 8:30 PM</td>\n",
       "      <td>Closed</td>\n",
       "      <td>11:00 AM - 8:30 PM</td>\n",
       "      <td>...</td>\n",
       "      <td>Y</td>\n",
       "      <td>N</td>\n",
       "      <td>Accepts Credit Cards</td>\n",
       "      <td>Restaurants</td>\n",
       "      <td>cocosushiizakaya.com</td>\n",
       "      <td>-</td>\n",
       "      <td>https://www.yelp.com/biz/cocos-sushi-and-izaka...</td>\n",
       "      <td>N</td>\n",
       "      <td>yelp.com</td>\n",
       "      <td>cocos-sushi-and-izakaya-san-francisco?osq=Rest...</td>\n",
       "    </tr>\n",
       "    <tr>\n",
       "      <th>4</th>\n",
       "      <td>Horsefeather</td>\n",
       "      <td>528 Divisidero St</td>\n",
       "      <td>San Francisco</td>\n",
       "      <td>CA</td>\n",
       "      <td>94117</td>\n",
       "      <td>Cocktail Bars, American (New)</td>\n",
       "      <td>(415) 817-1939</td>\n",
       "      <td>2:00 PM - 12:00 AM</td>\n",
       "      <td>2:00 PM - 12:00 AM</td>\n",
       "      <td>2:00 PM - 12:00 AM</td>\n",
       "      <td>...</td>\n",
       "      <td>Y</td>\n",
       "      <td>N</td>\n",
       "      <td>Accepts Credit Cards</td>\n",
       "      <td>Restaurants</td>\n",
       "      <td>horsefeatherbar.com</td>\n",
       "      <td>-</td>\n",
       "      <td>https://www.yelp.com/biz/horsefeather-san-fran...</td>\n",
       "      <td>N</td>\n",
       "      <td>yelp.com</td>\n",
       "      <td>horsefeather-san-francisco-2?osq=Restaurants</td>\n",
       "    </tr>\n",
       "  </tbody>\n",
       "</table>\n",
       "<p>5 rows × 94 columns</p>\n",
       "</div>"
      ],
      "text/plain": [
       "          Restaurant Name     Address Line 1           City State  \\\n",
       "0                    Nopa  560 Divisadero St  San Francisco    CA   \n",
       "1               Phat Thai                  -  San Francisco    CA   \n",
       "2     Che Fico Alimentari  834 Divisadero St  San Francisco    CA   \n",
       "3  Coco's Sushi & Izakaya    3319 Mission St  San Francisco    CA   \n",
       "4            Horsefeather  528 Divisidero St  San Francisco    CA   \n",
       "\n",
       "   Postal Code                             Cuisine Type           Phone  \\\n",
       "0        94117  American (New), Desserts, Cocktail Bars  (415) 864-8643   \n",
       "1        94118                        Thai, Food Trucks  (415) 684-4702   \n",
       "2        94117                                  Italian  (415) 416-6980   \n",
       "3        94110                               Sushi Bars  (415) 553-6062   \n",
       "4        94117            Cocktail Bars, American (New)  (415) 817-1939   \n",
       "\n",
       "       StoreTiming-Mon      StoreTiming-Tue     StoreTiming-Wed  ... Claimed  \\\n",
       "0               Closed   5:30 PM - 10:00 PM  5:30 PM - 10:00 PM  ...       Y   \n",
       "1  11:00 AM - 10:00 PM  11:00 AM - 10:00 PM              Closed  ...       N   \n",
       "2    5:00 PM - 9:00 PM    5:00 PM - 9:00 PM   5:00 PM - 9:00 PM  ...       Y   \n",
       "3   11:00 AM - 8:30 PM               Closed  11:00 AM - 8:30 PM  ...       Y   \n",
       "4   2:00 PM - 12:00 AM   2:00 PM - 12:00 AM  2:00 PM - 12:00 AM  ...       Y   \n",
       "\n",
       "  Open Now (Y/N) Payment Options (Black)     Category                website  \\\n",
       "0              N    Accepts Credit Cards  Restaurants             nopasf.com   \n",
       "1              N    Accepts Credit Cards  Restaurants         phatthaisf.com   \n",
       "2              N    Accepts Credit Cards  Restaurants  cheficoalimentari.com   \n",
       "3              N    Accepts Credit Cards  Restaurants   cocosushiizakaya.com   \n",
       "4              N    Accepts Credit Cards  Restaurants    horsefeatherbar.com   \n",
       "\n",
       "                                         Description  \\\n",
       "0  Specializing in organic wood-fired cuisine, we...   \n",
       "1                                                  -   \n",
       "2                                                  -   \n",
       "3                                                  -   \n",
       "4                                                  -   \n",
       "\n",
       "                                        Refernce URL black_owned    source  \\\n",
       "0  https://www.yelp.com/biz/nopa-san-francisco?os...           N  yelp.com   \n",
       "1  https://www.yelp.com/biz/phat-thai-san-francis...           N  yelp.com   \n",
       "2  https://www.yelp.com/biz/che-fico-alimentari-s...           N  yelp.com   \n",
       "3  https://www.yelp.com/biz/cocos-sushi-and-izaka...           N  yelp.com   \n",
       "4  https://www.yelp.com/biz/horsefeather-san-fran...           N  yelp.com   \n",
       "\n",
       "                                                 uid  \n",
       "0                 nopa-san-francisco?osq=Restaurants  \n",
       "1          phat-thai-san-francisco-2?osq=Restaurants  \n",
       "2  che-fico-alimentari-san-francisco?osq=Restaurants  \n",
       "3  cocos-sushi-and-izakaya-san-francisco?osq=Rest...  \n",
       "4       horsefeather-san-francisco-2?osq=Restaurants  \n",
       "\n",
       "[5 rows x 94 columns]"
      ]
     },
     "execution_count": 7,
     "metadata": {},
     "output_type": "execute_result"
    }
   ],
   "source": [
    "data.head()"
   ]
  },
  {
   "cell_type": "code",
   "execution_count": 8,
   "id": "4ba2745f-102f-4f66-814f-88bcb2333a24",
   "metadata": {},
   "outputs": [
    {
     "name": "stdout",
     "output_type": "stream",
     "text": [
      "<class 'pandas.core.frame.DataFrame'>\n",
      "RangeIndex: 20 entries, 0 to 19\n",
      "Data columns (total 94 columns):\n",
      " #   Column                   Non-Null Count  Dtype  \n",
      "---  ------                   --------------  -----  \n",
      " 0   Restaurant Name          20 non-null     object \n",
      " 1   Address Line 1           20 non-null     object \n",
      " 2   City                     20 non-null     object \n",
      " 3   State                    20 non-null     object \n",
      " 4   Postal Code              20 non-null     int64  \n",
      " 5   Cuisine Type             20 non-null     object \n",
      " 6   Phone                    20 non-null     object \n",
      " 7   StoreTiming-Mon          20 non-null     object \n",
      " 8   StoreTiming-Tue          20 non-null     object \n",
      " 9   StoreTiming-Wed          20 non-null     object \n",
      " 10  StoreTiming-Thu          20 non-null     object \n",
      " 11  StoreTiming-Fri          20 non-null     object \n",
      " 12  StoreTiming-Sat          20 non-null     object \n",
      " 13  StoreTiming-Sun          20 non-null     object \n",
      " 14  Price Range              20 non-null     object \n",
      " 15  Rating                   20 non-null     float64\n",
      " 16  No of Ratings            20 non-null     int64  \n",
      " 17  Rating 1                 20 non-null     object \n",
      " 18  Review 1                 20 non-null     object \n",
      " 19  Date 1                   20 non-null     object \n",
      " 20  Rating 2                 20 non-null     object \n",
      " 21  Review 2                 20 non-null     object \n",
      " 22  Date 2                   20 non-null     object \n",
      " 23  Rating 3                 20 non-null     object \n",
      " 24  Review 3                 20 non-null     object \n",
      " 25  Date 3                   20 non-null     object \n",
      " 26  Rating 4                 20 non-null     object \n",
      " 27  Review 4                 20 non-null     object \n",
      " 28  Date 4                   20 non-null     object \n",
      " 29  Rating 5                 20 non-null     object \n",
      " 30  Review 5                 20 non-null     object \n",
      " 31  Date 5                   20 non-null     object \n",
      " 32  Rating 6                 20 non-null     object \n",
      " 33  Review 6                 20 non-null     object \n",
      " 34  Date 6                   20 non-null     object \n",
      " 35  Rating 7                 20 non-null     object \n",
      " 36  Review 7                 20 non-null     object \n",
      " 37  Date 7                   20 non-null     object \n",
      " 38  Rating 8                 20 non-null     object \n",
      " 39  Review 8                 20 non-null     object \n",
      " 40  Date 8                   20 non-null     object \n",
      " 41  Rating 9                 20 non-null     object \n",
      " 42  Review 9                 20 non-null     object \n",
      " 43  Date 9                   20 non-null     object \n",
      " 44  Rating 10                20 non-null     object \n",
      " 45  Review 10                20 non-null     object \n",
      " 46  Date 10                  20 non-null     object \n",
      " 47  Rating 11                20 non-null     object \n",
      " 48  Review 11                20 non-null     object \n",
      " 49  Date 11                  20 non-null     object \n",
      " 50  Rating 12                20 non-null     object \n",
      " 51  Review 12                20 non-null     object \n",
      " 52  Date 12                  20 non-null     object \n",
      " 53  Rating 13                20 non-null     object \n",
      " 54  Review 13                20 non-null     object \n",
      " 55  Date 13                  20 non-null     object \n",
      " 56  Rating 14                20 non-null     object \n",
      " 57  Review 14                20 non-null     object \n",
      " 58  Date 14                  20 non-null     object \n",
      " 59  Rating 15                20 non-null     object \n",
      " 60  Review 15                20 non-null     object \n",
      " 61  Date 15                  20 non-null     object \n",
      " 62  Rating 16                20 non-null     object \n",
      " 63  Review 16                20 non-null     object \n",
      " 64  Date 16                  20 non-null     object \n",
      " 65  Rating 17                20 non-null     object \n",
      " 66  Review 17                20 non-null     object \n",
      " 67  Date 17                  20 non-null     object \n",
      " 68  Rating 18                20 non-null     object \n",
      " 69  Review 18                20 non-null     object \n",
      " 70  Date 18                  20 non-null     object \n",
      " 71  Rating 19                20 non-null     object \n",
      " 72  Review 19                20 non-null     object \n",
      " 73  Date 19                  20 non-null     object \n",
      " 74  Rating 20                20 non-null     object \n",
      " 75  Review 20                20 non-null     object \n",
      " 76  Date 20                  20 non-null     object \n",
      " 77  Special Hours            20 non-null     object \n",
      " 78  Notes                    20 non-null     object \n",
      " 79  Covid Related Info       20 non-null     object \n",
      " 80  Additional               20 non-null     object \n",
      " 81  Pickup/Takeout           20 non-null     object \n",
      " 82  Delivery                 20 non-null     object \n",
      " 83  Dine In/Reservation      20 non-null     object \n",
      " 84  Claimed                  20 non-null     object \n",
      " 85  Open Now (Y/N)           20 non-null     object \n",
      " 86  Payment Options (Black)  20 non-null     object \n",
      " 87  Category                 20 non-null     object \n",
      " 88  website                  20 non-null     object \n",
      " 89  Description              20 non-null     object \n",
      " 90  Refernce URL             20 non-null     object \n",
      " 91  black_owned              20 non-null     object \n",
      " 92  source                   20 non-null     object \n",
      " 93  uid                      20 non-null     object \n",
      "dtypes: float64(1), int64(2), object(91)\n",
      "memory usage: 14.8+ KB\n"
     ]
    }
   ],
   "source": [
    "data.info()"
   ]
  },
  {
   "cell_type": "code",
   "execution_count": 10,
   "id": "0859a93e-737c-4ba4-bfdc-32ad919e4738",
   "metadata": {},
   "outputs": [
    {
     "data": {
      "text/plain": [
       "count      20.000000\n",
       "mean      488.900000\n",
       "std      1266.978997\n",
       "min         5.000000\n",
       "25%        25.000000\n",
       "50%        66.000000\n",
       "75%        98.000000\n",
       "max      5114.000000\n",
       "Name: No of Ratings, dtype: float64"
      ]
     },
     "execution_count": 10,
     "metadata": {},
     "output_type": "execute_result"
    }
   ],
   "source": [
    "data['No of Ratings'].describe()"
   ]
  },
  {
   "cell_type": "code",
   "execution_count": 11,
   "id": "675134af-1f3e-4bfb-aa04-74d0b24c411d",
   "metadata": {},
   "outputs": [
    {
     "data": {
      "text/plain": [
       "Index(['Restaurant Name', 'Address Line 1', 'City', 'State', 'Postal Code',\n",
       "       'Cuisine Type', 'Phone', 'StoreTiming-Mon', 'StoreTiming-Tue',\n",
       "       'StoreTiming-Wed', 'StoreTiming-Thu', 'StoreTiming-Fri',\n",
       "       'StoreTiming-Sat', 'StoreTiming-Sun', 'Price Range', 'Rating',\n",
       "       'No of Ratings', 'Rating 1', 'Review 1', 'Date 1', 'Rating 2',\n",
       "       'Review 2', 'Date 2', 'Rating 3', 'Review 3', 'Date 3', 'Rating 4',\n",
       "       'Review 4', 'Date 4', 'Rating 5', 'Review 5', 'Date 5', 'Rating 6',\n",
       "       'Review 6', 'Date 6', 'Rating 7', 'Review 7', 'Date 7', 'Rating 8',\n",
       "       'Review 8', 'Date 8', 'Rating 9', 'Review 9', 'Date 9', 'Rating 10',\n",
       "       'Review 10', 'Date 10', 'Rating 11', 'Review 11', 'Date 11',\n",
       "       'Rating 12', 'Review 12', 'Date 12', 'Rating 13', 'Review 13',\n",
       "       'Date 13', 'Rating 14', 'Review 14', 'Date 14', 'Rating 15',\n",
       "       'Review 15', 'Date 15', 'Rating 16', 'Review 16', 'Date 16',\n",
       "       'Rating 17', 'Review 17', 'Date 17', 'Rating 18', 'Review 18',\n",
       "       'Date 18', 'Rating 19', 'Review 19', 'Date 19', 'Rating 20',\n",
       "       'Review 20', 'Date 20', 'Special Hours', 'Notes', 'Covid Related Info',\n",
       "       'Additional', 'Pickup/Takeout', 'Delivery', 'Dine In/Reservation',\n",
       "       'Claimed', 'Open Now (Y/N)', 'Payment Options (Black)', 'Category',\n",
       "       'website', 'Description', 'Refernce URL', 'black_owned', 'source',\n",
       "       'uid'],\n",
       "      dtype='object')"
      ]
     },
     "execution_count": 11,
     "metadata": {},
     "output_type": "execute_result"
    }
   ],
   "source": [
    "data.columns"
   ]
  },
  {
   "cell_type": "code",
   "execution_count": 15,
   "id": "044bc2be-7d97-4b86-b25c-608721f299c2",
   "metadata": {},
   "outputs": [
    {
     "data": {
      "text/html": [
       "<div>\n",
       "<style scoped>\n",
       "    .dataframe tbody tr th:only-of-type {\n",
       "        vertical-align: middle;\n",
       "    }\n",
       "\n",
       "    .dataframe tbody tr th {\n",
       "        vertical-align: top;\n",
       "    }\n",
       "\n",
       "    .dataframe thead th {\n",
       "        text-align: right;\n",
       "    }\n",
       "</style>\n",
       "<table border=\"1\" class=\"dataframe\">\n",
       "  <thead>\n",
       "    <tr style=\"text-align: right;\">\n",
       "      <th></th>\n",
       "      <th>Address Line 1</th>\n",
       "      <th>City</th>\n",
       "      <th>State</th>\n",
       "      <th>Postal Code</th>\n",
       "    </tr>\n",
       "  </thead>\n",
       "  <tbody>\n",
       "    <tr>\n",
       "      <th>3</th>\n",
       "      <td>3319 Mission St</td>\n",
       "      <td>San Francisco</td>\n",
       "      <td>CA</td>\n",
       "      <td>94110</td>\n",
       "    </tr>\n",
       "    <tr>\n",
       "      <th>16</th>\n",
       "      <td>1500 Yosemite Ave</td>\n",
       "      <td>San Francisco</td>\n",
       "      <td>CA</td>\n",
       "      <td>94124</td>\n",
       "    </tr>\n",
       "    <tr>\n",
       "      <th>6</th>\n",
       "      <td>808 Divisadero St</td>\n",
       "      <td>San Francisco</td>\n",
       "      <td>CA</td>\n",
       "      <td>94117</td>\n",
       "    </tr>\n",
       "    <tr>\n",
       "      <th>10</th>\n",
       "      <td>50 Mendell St</td>\n",
       "      <td>San Francisco</td>\n",
       "      <td>CA</td>\n",
       "      <td>94124</td>\n",
       "    </tr>\n",
       "    <tr>\n",
       "      <th>2</th>\n",
       "      <td>834 Divisadero St</td>\n",
       "      <td>San Francisco</td>\n",
       "      <td>CA</td>\n",
       "      <td>94117</td>\n",
       "    </tr>\n",
       "    <tr>\n",
       "      <th>14</th>\n",
       "      <td>110 Robinson St</td>\n",
       "      <td>San Francisco</td>\n",
       "      <td>CA</td>\n",
       "      <td>94124</td>\n",
       "    </tr>\n",
       "    <tr>\n",
       "      <th>4</th>\n",
       "      <td>528 Divisidero St</td>\n",
       "      <td>San Francisco</td>\n",
       "      <td>CA</td>\n",
       "      <td>94117</td>\n",
       "    </tr>\n",
       "    <tr>\n",
       "      <th>17</th>\n",
       "      <td>1401 Egbert Ave</td>\n",
       "      <td>San Francisco</td>\n",
       "      <td>CA</td>\n",
       "      <td>94124</td>\n",
       "    </tr>\n",
       "  </tbody>\n",
       "</table>\n",
       "</div>"
      ],
      "text/plain": [
       "       Address Line 1           City State  Postal Code\n",
       "3     3319 Mission St  San Francisco    CA        94110\n",
       "16  1500 Yosemite Ave  San Francisco    CA        94124\n",
       "6   808 Divisadero St  San Francisco    CA        94117\n",
       "10      50 Mendell St  San Francisco    CA        94124\n",
       "2   834 Divisadero St  San Francisco    CA        94117\n",
       "14    110 Robinson St  San Francisco    CA        94124\n",
       "4   528 Divisidero St  San Francisco    CA        94117\n",
       "17    1401 Egbert Ave  San Francisco    CA        94124"
      ]
     },
     "execution_count": 15,
     "metadata": {},
     "output_type": "execute_result"
    }
   ],
   "source": [
    "#exploring address related columns\n",
    "data.loc[:,['Address Line 1','City','State','Postal Code']].sample(8,random_state=1)"
   ]
  },
  {
   "cell_type": "code",
   "execution_count": 17,
   "id": "9958ce0b-662a-4d86-8fce-7c705aec1ca8",
   "metadata": {},
   "outputs": [],
   "source": [
    "#drop unecessary columns\n",
    "column_to_drop = ['Address Line 1','Phone']\n",
    "data.drop(columns=column_to_drop, axis=1, inplace=True)"
   ]
  },
  {
   "cell_type": "code",
   "execution_count": 18,
   "id": "fb59cf97-92de-4ceb-b159-779c1d07e924",
   "metadata": {},
   "outputs": [
    {
     "data": {
      "text/plain": [
       "Index(['Restaurant Name', 'City', 'State', 'Postal Code', 'Cuisine Type',\n",
       "       'StoreTiming-Mon', 'StoreTiming-Tue', 'StoreTiming-Wed',\n",
       "       'StoreTiming-Thu', 'StoreTiming-Fri', 'StoreTiming-Sat',\n",
       "       'StoreTiming-Sun', 'Price Range', 'Rating', 'No of Ratings', 'Rating 1',\n",
       "       'Review 1', 'Date 1', 'Rating 2', 'Review 2', 'Date 2', 'Rating 3',\n",
       "       'Review 3', 'Date 3', 'Rating 4', 'Review 4', 'Date 4', 'Rating 5',\n",
       "       'Review 5', 'Date 5', 'Rating 6', 'Review 6', 'Date 6', 'Rating 7',\n",
       "       'Review 7', 'Date 7', 'Rating 8', 'Review 8', 'Date 8', 'Rating 9',\n",
       "       'Review 9', 'Date 9', 'Rating 10', 'Review 10', 'Date 10', 'Rating 11',\n",
       "       'Review 11', 'Date 11', 'Rating 12', 'Review 12', 'Date 12',\n",
       "       'Rating 13', 'Review 13', 'Date 13', 'Rating 14', 'Review 14',\n",
       "       'Date 14', 'Rating 15', 'Review 15', 'Date 15', 'Rating 16',\n",
       "       'Review 16', 'Date 16', 'Rating 17', 'Review 17', 'Date 17',\n",
       "       'Rating 18', 'Review 18', 'Date 18', 'Rating 19', 'Review 19',\n",
       "       'Date 19', 'Rating 20', 'Review 20', 'Date 20', 'Special Hours',\n",
       "       'Notes', 'Covid Related Info', 'Additional', 'Pickup/Takeout',\n",
       "       'Delivery', 'Dine In/Reservation', 'Claimed', 'Open Now (Y/N)',\n",
       "       'Payment Options (Black)', 'Category', 'website', 'Description',\n",
       "       'Refernce URL', 'black_owned', 'source', 'uid'],\n",
       "      dtype='object')"
      ]
     },
     "execution_count": 18,
     "metadata": {},
     "output_type": "execute_result"
    }
   ],
   "source": [
    "data.columns"
   ]
  },
  {
   "cell_type": "code",
   "execution_count": 19,
   "id": "a642f061-bda4-4900-a320-9a9f63b8cef1",
   "metadata": {},
   "outputs": [
    {
     "name": "stdout",
     "output_type": "stream",
     "text": [
      "No. of Duplicates in dataset:  0\n"
     ]
    }
   ],
   "source": [
    "#look for duplicate values and drop the same\n",
    "print(\"No. of Duplicates in dataset: \", data.duplicated().sum())"
   ]
  },
  {
   "cell_type": "code",
   "execution_count": 20,
   "id": "c6988200-f294-4e31-8dfd-675eded41f95",
   "metadata": {},
   "outputs": [],
   "source": [
    "data.drop_duplicates(inplace=True)"
   ]
  },
  {
   "cell_type": "code",
   "execution_count": 21,
   "id": "aaa1640c-bebc-4403-bd08-38c6ca44aafb",
   "metadata": {},
   "outputs": [
    {
     "data": {
      "text/plain": [
       "Restaurant Name    0.0\n",
       "City               0.0\n",
       "State              0.0\n",
       "Postal Code        0.0\n",
       "Cuisine Type       0.0\n",
       "                  ... \n",
       "Description        0.0\n",
       "Refernce URL       0.0\n",
       "black_owned        0.0\n",
       "source             0.0\n",
       "uid                0.0\n",
       "Length: 92, dtype: float64"
      ]
     },
     "execution_count": 21,
     "metadata": {},
     "output_type": "execute_result"
    }
   ],
   "source": [
    "#identify null values and remove them\n",
    "((data.isna().sum()/data.shape[0])*100).round(2)"
   ]
  },
  {
   "cell_type": "code",
   "execution_count": 34,
   "id": "95bfda8b-676c-44b7-a43b-522576c614b8",
   "metadata": {},
   "outputs": [
    {
     "data": {
      "text/plain": [
       "array([4. , 3.5, 4.5, 5. ])"
      ]
     },
     "execution_count": 34,
     "metadata": {},
     "output_type": "execute_result"
    }
   ],
   "source": [
    "data.Rating.unique()"
   ]
  },
  {
   "cell_type": "code",
   "execution_count": 36,
   "id": "c4651dd5-f32f-489d-b5bd-85b39385a37c",
   "metadata": {},
   "outputs": [],
   "source": [
    "# remove 'NEW' and '-' from rate column and put NaN value\n",
    "#data['rate'] = data['rate'].replace('NEW', np.NaN)\n",
    "#data['rate'] = data['rate'].replace('-', np.NaN)\n"
   ]
  },
  {
   "cell_type": "code",
   "execution_count": 40,
   "id": "c0ab5944-560d-4e00-b620-aa0821ea1b48",
   "metadata": {},
   "outputs": [
    {
     "data": {
      "text/plain": [
       "Restaurant Name    0.0\n",
       "City               0.0\n",
       "State              0.0\n",
       "Postal Code        0.0\n",
       "Cuisine Type       0.0\n",
       "                  ... \n",
       "Description        0.0\n",
       "Refernce URL       0.0\n",
       "black_owned        0.0\n",
       "source             0.0\n",
       "uid                0.0\n",
       "Length: 92, dtype: float64"
      ]
     },
     "execution_count": 40,
     "metadata": {},
     "output_type": "execute_result"
    }
   ],
   "source": [
    "((data.isna().sum()/data.shape[0])*100).round(2)"
   ]
  },
  {
   "cell_type": "code",
   "execution_count": 19,
   "id": "2dd23493-61f5-410b-9e8e-516da1878d73",
   "metadata": {},
   "outputs": [],
   "source": [
    "# thus NaN % was 10.15 initially but now is 14.11, as some values took 'NEW' and'-' which were removed."
   ]
  },
  {
   "cell_type": "code",
   "execution_count": 41,
   "id": "88ef8b0d-e07c-4853-b3a7-b7b9ed419ff3",
   "metadata": {},
   "outputs": [],
   "source": [
    "data['Rating'] = data['Rating'].astype(str)\n",
    "\n",
    "data['Rating'] = data['Rating'].apply(lambda r: r.replace('/5',''))\n",
    "\n",
    "data['Rating'] = data['Rating'].apply(lambda r: float(r))\n"
   ]
  },
  {
   "cell_type": "code",
   "execution_count": 75,
   "id": "11a02007-b083-4890-9b6b-7a5784bd557a",
   "metadata": {},
   "outputs": [
    {
     "data": {
      "text/plain": [
       "0     4.0\n",
       "1     3.5\n",
       "2     4.5\n",
       "3     3.5\n",
       "4     4.0\n",
       "5     4.5\n",
       "6     4.5\n",
       "7     3.5\n",
       "8     4.5\n",
       "9     4.0\n",
       "10    4.0\n",
       "11    4.5\n",
       "12    5.0\n",
       "13    4.5\n",
       "14    5.0\n",
       "15    4.5\n",
       "16    4.5\n",
       "17    3.5\n",
       "18    4.0\n",
       "19    3.5\n",
       "Name: Rating, dtype: float64"
      ]
     },
     "execution_count": 75,
     "metadata": {},
     "output_type": "execute_result"
    }
   ],
   "source": [
    "data['Rating'].head(20)"
   ]
  },
  {
   "cell_type": "code",
   "execution_count": 109,
   "id": "1c8c2e03-c679-4bb9-b107-1362aaec3e22",
   "metadata": {},
   "outputs": [
    {
     "data": {
      "text/plain": [
       "str"
      ]
     },
     "execution_count": 109,
     "metadata": {},
     "output_type": "execute_result"
    }
   ],
   "source": [
    "type(data.Review1 [0])"
   ]
  },
  {
   "cell_type": "code",
   "execution_count": 111,
   "id": "9268cf09-9663-4915-885e-e1c915b29473",
   "metadata": {},
   "outputs": [],
   "source": [
    "#data.Review1  = data.Review1 .apply(lambda x: ast.literal_eval(x))\n",
    "#type(data.Review1 [0])"
   ]
  },
  {
   "cell_type": "code",
   "execution_count": 108,
   "id": "bdd917b5-0640-4bf2-b6a6-a56d246fe96d",
   "metadata": {},
   "outputs": [
    {
     "data": {
      "text/plain": [
       "0     Nopa never disappoints!\\n\\nI really loved the ...\n",
       "1     My partner always gets me the massaman curry a...\n",
       "2     I can't recommend Che Fico Alimentari enough!\\...\n",
       "3     Quick take: Ramen and/or sushi\\n\\nThis restaur...\n",
       "4     Food was just ok, and serviced as abismal, the...\n",
       "5     Kathy and Tom from Copper Top Ovens are the ab...\n",
       "6     Food was unreal, the head chef Tommy was super...\n",
       "7     I recently went for dinner with a friend to Ja...\n",
       "8     Yummmmmaaayyyy!\\nMy friend and I ordered takeo...\n",
       "9     Ordered a chorizo taco , I thought it was good...\n",
       "10    This is the BEST hole in the wall for takeout ...\n",
       "11    Sheeeeesh... can't believe this has been in my...\n",
       "12    Wow, we just had a Bayview Bistro box (the Mar...\n",
       "13    Tasty dishes with quality ingredients, cooked ...\n",
       "14    Tres bien!  I lalalove these waffles.\\n\\nI wen...\n",
       "15    Came here the other day while on a business tr...\n",
       "16    Still some of the best tacos in S.F. Come here...\n",
       "17    This restaurant is amazing! They have such del...\n",
       "18                                                    -\n",
       "19    Soo Fong is soo good. This place has become on...\n",
       "Name: Review1, dtype: object"
      ]
     },
     "execution_count": 108,
     "metadata": {},
     "output_type": "execute_result"
    }
   ],
   "source": [
    "#check first item\n",
    "data.Review1 "
   ]
  },
  {
   "cell_type": "code",
   "execution_count": 112,
   "id": "dbde51ca-df9e-4623-b2de-0e7c7c82600b",
   "metadata": {},
   "outputs": [
    {
     "data": {
      "text/plain": [
       "0     Nice location, atmosphere. I used Open table t...\n",
       "1     Phat Thai visited our building in San Francisc...\n",
       "2     Che Fico --(pronounced kay-Fee-koh) translates...\n",
       "3     Can't decide if you want sushi or ramen? WHY N...\n",
       "4     Experiencing Horsefeather left me feeling like...\n",
       "5     Caught them at the alemany farmers market this...\n",
       "6     10/10 Top-notch yakitori place in San Francisc...\n",
       "7     So good!!! Got the lunch special with bok choy...\n",
       "8     EDIT: Owner reached out which was nice. Will e...\n",
       "9     The bf and I go to the Alemany's farmer market...\n",
       "10    I used to spend $50-$70 per day , 3-4 days a w...\n",
       "11    I was impressed with my entire order. The plac...\n",
       "12    Bayview Bistro is a food truck park located on...\n",
       "13    Nice find in the City! I stopped by for an imp...\n",
       "14    Gaufre It! Catered a large party of mine. The ...\n",
       "15    I started this draft pre-covid, so I really ho...\n",
       "16    I asked for a carne asara burrito and got a bu...\n",
       "17    Who's the best zombie dancer of all time?\\n\\nM...\n",
       "18                                                    -\n",
       "19    Was in the area and decided to grab some carry...\n",
       "Name: Review2, dtype: object"
      ]
     },
     "execution_count": 112,
     "metadata": {},
     "output_type": "execute_result"
    }
   ],
   "source": [
    "#check second item\n",
    "data.Review2"
   ]
  },
  {
   "cell_type": "code",
   "execution_count": 76,
   "id": "f1fe4471-c51c-4f0f-9f83-c742041b1e73",
   "metadata": {},
   "outputs": [],
   "source": [
    "# extract the rate for first input from review option\n",
    "#extracted = [float(i[0].replace('Rated','').strip()) for i in data.reviews_list[0]]\n",
    "#extracted\n",
    "\n"
   ]
  },
  {
   "cell_type": "code",
   "execution_count": 77,
   "id": "2b5be7c5-61c6-4d67-888c-6503f61de689",
   "metadata": {},
   "outputs": [
    {
     "data": {
      "text/plain": [
       "0     4.0\n",
       "1     3.5\n",
       "2     4.5\n",
       "3     3.5\n",
       "4     4.0\n",
       "5     4.5\n",
       "6     4.5\n",
       "7     3.5\n",
       "8     4.5\n",
       "9     4.0\n",
       "10    4.0\n",
       "11    4.5\n",
       "12    5.0\n",
       "13    4.5\n",
       "14    5.0\n",
       "15    4.5\n",
       "16    4.5\n",
       "17    3.5\n",
       "18    4.0\n",
       "19    3.5\n",
       "Name: Rating, dtype: float64"
      ]
     },
     "execution_count": 77,
     "metadata": {},
     "output_type": "execute_result"
    }
   ],
   "source": [
    "#extracted_mean = round((sum(extracted)/len(extracted)),1)\n",
    "#extracted_mean\n",
    "data['Rating'].head(20)"
   ]
  },
  {
   "cell_type": "code",
   "execution_count": 78,
   "id": "b7d4f385-a048-434c-9d03-1ab08cc36c84",
   "metadata": {},
   "outputs": [],
   "source": [
    "#print (\"extracted Rate: \",extracted_mean)\n",
    "#print (\"Original Rate: \",data.rate[0])"
   ]
  },
  {
   "cell_type": "code",
   "execution_count": 79,
   "id": "d6ec438d-542e-44bb-8863-8df1fd948839",
   "metadata": {},
   "outputs": [],
   "source": [
    "#ef extract_features_from_review_list(x):\n",
    " #   '''\n",
    "  #  extract the rate value out of a string inside tuple\n",
    "   # '''\n",
    "    \n",
    "    # ensure that x is not Null and there is more than one rate\n",
    "    #if not x or len(x) <=1:\n",
    "   #     return None\n",
    "    \n",
    "   # rate =[float(i[0].replace('Rated','').strip()) for i in x if type(i[0])==str]\n",
    "           \n",
    "   # return round((sum(rate)/len(rate)),1)"
   ]
  },
  {
   "cell_type": "code",
   "execution_count": 115,
   "id": "cc44b7ac-d530-4c00-8f67-b6a11a3c6897",
   "metadata": {},
   "outputs": [],
   "source": [
    "#data['Review1'] = data.Review1.apply(lambda x: extract_features_from_review_list(x))"
   ]
  },
  {
   "cell_type": "code",
   "execution_count": 81,
   "id": "c077ade3-c523-4b89-b04f-7332b1ce6177",
   "metadata": {},
   "outputs": [],
   "source": [
    "# compare \"original\" vs \"extracted rate from review list\"\n",
    "#data.loc[:,['rate','review_rate']].sample(10,random_state=1)"
   ]
  },
  {
   "cell_type": "code",
   "execution_count": 82,
   "id": "776143d3-88a3-4cb5-920f-ff7871f82695",
   "metadata": {},
   "outputs": [],
   "source": [
    "#data.rate.isna().sum()"
   ]
  },
  {
   "cell_type": "code",
   "execution_count": 84,
   "id": "e2a4cd70-6fb4-41d1-b1be-3200965e923e",
   "metadata": {},
   "outputs": [],
   "source": [
    "## Finding rate = NaN and review_rate == notNaN\n",
    "#data.query('rate != rate & review_rate == review_rate')[:5]"
   ]
  },
  {
   "cell_type": "code",
   "execution_count": 34,
   "id": "3b988fc3-b1cd-407b-a4ee-283a7c7cdb6e",
   "metadata": {},
   "outputs": [],
   "source": [
    "## Finding index where rate==NaN and review_rate==not NaN\n",
    "#nan_index = data.query('rate !=rate & review_rate == review_rate').index\n",
    "#for i in nan_index:\n",
    " #   data.loc[i,'rate'] = data.loc[i,'review_rate']"
   ]
  },
  {
   "cell_type": "code",
   "execution_count": 85,
   "id": "74975a8d-ed57-4df3-9687-cf4b0f9ed9d7",
   "metadata": {},
   "outputs": [],
   "source": [
    "# Update number of null values\n",
    "#data.rate.isna().sum()"
   ]
  },
  {
   "cell_type": "code",
   "execution_count": 86,
   "id": "c56dab33-6830-45a7-9cf6-4af1e1db1f3c",
   "metadata": {},
   "outputs": [],
   "source": [
    "# Again check iterinary list of resturant\n",
    "#((data.isna().sum()/data.shape[0])*100).round(2)"
   ]
  },
  {
   "cell_type": "code",
   "execution_count": 37,
   "id": "fa7bc5f9-cfd5-483d-9d03-8a8e698f3ff6",
   "metadata": {},
   "outputs": [],
   "source": [
    "# NOte the review_rate above which was not in the previous list"
   ]
  },
  {
   "cell_type": "code",
   "execution_count": 38,
   "id": "40419d25-ce96-42a0-a677-6c670a709308",
   "metadata": {},
   "outputs": [],
   "source": [
    "## Now first lets drop review_rate column \n",
    "#data.drop(columns='review_rate', axis=1,inplace=True)"
   ]
  },
  {
   "cell_type": "code",
   "execution_count": 88,
   "id": "fe3b6514-6381-4c15-b360-978c987e6683",
   "metadata": {},
   "outputs": [],
   "source": [
    "#data.rate.isna().sum()"
   ]
  },
  {
   "cell_type": "code",
   "execution_count": 40,
   "id": "3a3cbc71-a18b-4a9e-9d43-2dc892b5bf79",
   "metadata": {},
   "outputs": [],
   "source": [
    "#Drop null values\n",
    "#data.dropna(subset=['rate', 'approx_cost(for two people)'],inplace=True)"
   ]
  },
  {
   "cell_type": "code",
   "execution_count": 87,
   "id": "f5765b93-858a-44ca-9965-0dfe860aa7da",
   "metadata": {},
   "outputs": [
    {
     "data": {
      "text/plain": [
       "(20, 92)"
      ]
     },
     "execution_count": 87,
     "metadata": {},
     "output_type": "execute_result"
    }
   ],
   "source": [
    "#check the shape\n",
    "data.shape"
   ]
  },
  {
   "cell_type": "code",
   "execution_count": 90,
   "id": "b907ccc0-9886-4220-92c6-18e3ba3a86f7",
   "metadata": {},
   "outputs": [],
   "source": [
    "#data.isna().sum()"
   ]
  },
  {
   "cell_type": "code",
   "execution_count": 95,
   "id": "70a8cfc5-cab3-4316-ae23-b407bda1741d",
   "metadata": {},
   "outputs": [],
   "source": [
    "#removing null values from 'cuisines'\n",
    "#data=data[data.Cuisine.isna()==False]"
   ]
  },
  {
   "cell_type": "code",
   "execution_count": 98,
   "id": "4ab9dfb8-9da7-48fa-b72c-9b90cb843d21",
   "metadata": {},
   "outputs": [],
   "source": [
    "## rename 'approx_cost(for two people)' by 'average_cost'\n",
    "#data.rename(columns={'approx_cost(for two people)': 'average_cost'}, inplace=True)"
   ]
  },
  {
   "cell_type": "code",
   "execution_count": 97,
   "id": "65e6cdcc-a604-4361-acbd-7f22351389c2",
   "metadata": {},
   "outputs": [
    {
     "data": {
      "text/plain": [
       "Restaurant Name    0.0\n",
       "City               0.0\n",
       "State              0.0\n",
       "Postal Code        0.0\n",
       "Cuisine Type       0.0\n",
       "                  ... \n",
       "Description        0.0\n",
       "Refernce URL       0.0\n",
       "black_owned        0.0\n",
       "source             0.0\n",
       "uid                0.0\n",
       "Length: 92, dtype: float64"
      ]
     },
     "execution_count": 97,
     "metadata": {},
     "output_type": "execute_result"
    }
   ],
   "source": [
    "((data.isna().sum()/data.shape[0])*100).round(2)"
   ]
  },
  {
   "cell_type": "code",
   "execution_count": 100,
   "id": "40b81437-aa2a-4ef4-9c2f-fa81bbf37faf",
   "metadata": {},
   "outputs": [],
   "source": [
    "# make lower case (??)\n",
    "#data.dish_liked = data.dish_liked.apply(lambda x:x.lower().strip() if isinstance(x,str) else x)"
   ]
  },
  {
   "cell_type": "code",
   "execution_count": 103,
   "id": "935ea30a-8e80-42d9-b993-54a1e921272c",
   "metadata": {},
   "outputs": [
    {
     "data": {
      "text/plain": [
       "0    American (New), Desserts, Cocktail Bars\n",
       "1                          Thai, Food Trucks\n",
       "Name: Cuisine, dtype: object"
      ]
     },
     "execution_count": 103,
     "metadata": {},
     "output_type": "execute_result"
    }
   ],
   "source": [
    "data.Cuisine[:2]"
   ]
  },
  {
   "cell_type": "code",
   "execution_count": 116,
   "id": "56062fd5-31e6-4c0b-b9dc-2a7bd39850d6",
   "metadata": {},
   "outputs": [
    {
     "data": {
      "text/plain": [
       "37"
      ]
     },
     "execution_count": 116,
     "metadata": {},
     "output_type": "execute_result"
    }
   ],
   "source": [
    "menu_list = []\n",
    "\n",
    "# collect the names of dishes and make a menu list for all varitires of dishes\n",
    "for dish in data.Cuisine.tolist():\n",
    "    if isinstance(dish,str) and len(dish)>0:\n",
    "        for e in dish.split(','):\n",
    "            menu_list.append(e)\n",
    "len(menu_list)"
   ]
  },
  {
   "cell_type": "code",
   "execution_count": 117,
   "id": "f446ab79-a2f7-456f-9e1c-1d2f654fc241",
   "metadata": {},
   "outputs": [],
   "source": [
    "# colect unique dish name\n",
    "menu_set = set(menu_list)"
   ]
  },
  {
   "cell_type": "code",
   "execution_count": 118,
   "id": "e1255640-bd07-49ff-8138-1b82d8276146",
   "metadata": {},
   "outputs": [],
   "source": [
    "## We now need to encode to UTF8 and then decode to ASCII code as review list contains different characters\n",
    "def clear_text(t):\n",
    "    return ' '.join([i[1] for i in t]).encode('utf8').decode('ascii',errors='replace')"
   ]
  },
  {
   "cell_type": "code",
   "execution_count": 122,
   "id": "357d8803-adb5-42e6-bf3e-b317bc84f382",
   "metadata": {},
   "outputs": [],
   "source": [
    "#|data['process_text'] = data.Cuisine.apply(lambda x: clear_text(x))"
   ]
  },
  {
   "cell_type": "code",
   "execution_count": 123,
   "id": "82c96864-1195-4858-a9fa-fe5fabde83c1",
   "metadata": {},
   "outputs": [],
   "source": [
    "#data['process_text']"
   ]
  },
  {
   "cell_type": "code",
   "execution_count": 124,
   "id": "3d3ba24b-c99e-4d2c-9fa8-f06cf3d36d8a",
   "metadata": {},
   "outputs": [],
   "source": [
    "## Note = thus as we can see we need to clean up the above list of data as it contains different characters\n",
    "#data['process_text'] = data.process_text.apply(lambda x : x.replace(\"RATED\\n \",'').replace('?','').replace('\\n','').replace('.','').replace('�','').strip().lower())"
   ]
  },
  {
   "cell_type": "code",
   "execution_count": 125,
   "id": "b8717489-b54e-48ae-8d1c-032c38727e78",
   "metadata": {},
   "outputs": [],
   "source": [
    "# now check reviews for the applied change/replacements\n",
    "#data.process_text[0]"
   ]
  },
  {
   "cell_type": "code",
   "execution_count": 127,
   "id": "c8cf7c0d-de2e-4caf-9c71-e00fdca0b254",
   "metadata": {},
   "outputs": [
    {
     "data": {
      "text/plain": [
       "18"
      ]
     },
     "execution_count": 127,
     "metadata": {},
     "output_type": "execute_result"
    }
   ],
   "source": [
    "data.Cuisine.nunique()"
   ]
  },
  {
   "cell_type": "code",
   "execution_count": 128,
   "id": "66a86077-3916-4762-924d-870c25d0b27b",
   "metadata": {},
   "outputs": [],
   "source": [
    "# making it lower case\n",
    "#data.dish_liked = data.dish_liked.apply(lambda x:x.lower().strip() if isinstance(x,str) else x)"
   ]
  },
  {
   "cell_type": "code",
   "execution_count": 130,
   "id": "01b59d03-da91-4ad8-9833-8b69db77f31f",
   "metadata": {},
   "outputs": [
    {
     "data": {
      "text/plain": [
       "0           American (New), Desserts, Cocktail Bars\n",
       "1                                 Thai, Food Trucks\n",
       "2                                           Italian\n",
       "3                                        Sushi Bars\n",
       "4                     Cocktail Bars, American (New)\n",
       "5                                Pizza, Food Stands\n",
       "6                                          Japanese\n",
       "7                                           Chinese\n",
       "8                              Pizza, Italian, Bars\n",
       "9                                           Mexican\n",
       "10                  Chinese, American (Traditional)\n",
       "11                     Chicken Shop, Salad, Burgers\n",
       "12                  Food Trucks, Pop-Up Restaurants\n",
       "13                      Thai, Asian Fusion, Burgers\n",
       "14                         Desserts, American (New)\n",
       "15                                            Cafes\n",
       "16                             Mexican, Food Trucks\n",
       "17                                          Mexican\n",
       "18    Korean, Chicken Wings, Food Delivery Services\n",
       "19                                          Chinese\n",
       "Name: Cuisine, dtype: object"
      ]
     },
     "execution_count": 130,
     "metadata": {},
     "output_type": "execute_result"
    }
   ],
   "source": [
    "# for eg\n",
    "data.Cuisine"
   ]
  },
  {
   "cell_type": "code",
   "execution_count": 134,
   "id": "8a72fb04-be16-4c43-b2d5-768084279c56",
   "metadata": {},
   "outputs": [],
   "source": [
    "# for easier visuals ofliked dish data from menu_list\n",
    "#menu_set.intersection(data.Cuisine(' '))"
   ]
  },
  {
   "cell_type": "code",
   "execution_count": 135,
   "id": "2fabcb73-5405-4456-887e-6a18d37fad00",
   "metadata": {},
   "outputs": [],
   "source": [
    "# create new column for reviewed dish\n",
    "data['dish_n_review'] = data.Cuisine.apply(lambda x: ', '.join(list(menu_set.intersection(x.split(' ')))))"
   ]
  },
  {
   "cell_type": "code",
   "execution_count": 138,
   "id": "4fe39e23-4c1d-41cc-801a-e1d0a8294ab1",
   "metadata": {},
   "outputs": [],
   "source": [
    "#data.query('Cuisine !=Cuisine')[['Cuisine','Cuisine']].sample(5,random_state=1)"
   ]
  },
  {
   "cell_type": "code",
   "execution_count": 140,
   "id": "ee19db43-3cac-4d9c-87c2-841711d5dd38",
   "metadata": {},
   "outputs": [],
   "source": [
    "# act on missed values\n",
    "#nan_index = data.query('dish_liked !=dish_liked & dish_n_review == dish_n_review').index\n",
    "#for i in nan_index:\n",
    "#    data.loc[i,'dish_liked'] = data.loc[i,'dish_n_review']"
   ]
  },
  {
   "cell_type": "code",
   "execution_count": 145,
   "id": "8e77d78d-f7a8-4f84-8eed-db280d34ab2a",
   "metadata": {},
   "outputs": [
    {
     "data": {
      "text/plain": [
       "0           American (New), Desserts, Cocktail Bars\n",
       "1                                 Thai, Food Trucks\n",
       "2                                           Italian\n",
       "3                                        Sushi Bars\n",
       "4                     Cocktail Bars, American (New)\n",
       "5                                Pizza, Food Stands\n",
       "6                                          Japanese\n",
       "7                                           Chinese\n",
       "8                              Pizza, Italian, Bars\n",
       "9                                           Mexican\n",
       "10                  Chinese, American (Traditional)\n",
       "11                     Chicken Shop, Salad, Burgers\n",
       "12                  Food Trucks, Pop-Up Restaurants\n",
       "13                      Thai, Asian Fusion, Burgers\n",
       "14                         Desserts, American (New)\n",
       "15                                            Cafes\n",
       "16                             Mexican, Food Trucks\n",
       "17                                          Mexican\n",
       "18    Korean, Chicken Wings, Food Delivery Services\n",
       "19                                          Chinese\n",
       "Name: Cuisine, dtype: object"
      ]
     },
     "execution_count": 145,
     "metadata": {},
     "output_type": "execute_result"
    }
   ],
   "source": [
    "# testing\n",
    "data.Cuisine"
   ]
  },
  {
   "cell_type": "code",
   "execution_count": 146,
   "id": "9943c623-4307-4f16-9266-9da003fd5d81",
   "metadata": {},
   "outputs": [],
   "source": [
    "# dropping menu_list and menu_set, if req. \n",
    "#del menu_list\n",
    "#del menu_set"
   ]
  },
  {
   "cell_type": "code",
   "execution_count": 147,
   "id": "c5a9e3a5-89f6-44b2-b7f8-57d808c61433",
   "metadata": {},
   "outputs": [],
   "source": [
    "#data.drop(columns=['dish_n_review'],axis=1, inplace=True)"
   ]
  },
  {
   "cell_type": "code",
   "execution_count": 148,
   "id": "a61fb75f-be55-4008-a032-78f396dc9783",
   "metadata": {},
   "outputs": [],
   "source": [
    "# check for null values\n",
    "#((data.isna().sum()/data.shape[0])*100).round(3)"
   ]
  },
  {
   "cell_type": "code",
   "execution_count": 149,
   "id": "7957b6ed-ed8f-4fb7-ae14-024d170c7684",
   "metadata": {},
   "outputs": [
    {
     "data": {
      "text/plain": [
       "(20, 95)"
      ]
     },
     "execution_count": 149,
     "metadata": {},
     "output_type": "execute_result"
    }
   ],
   "source": [
    "data.shape"
   ]
  },
  {
   "cell_type": "code",
   "execution_count": null,
   "id": "d90dc29c-e8a6-46cc-82fe-25ac543fe255",
   "metadata": {},
   "outputs": [],
   "source": [
    "# better visual data than previous case"
   ]
  },
  {
   "cell_type": "code",
   "execution_count": 153,
   "id": "a0bf0ef7-68ea-462f-b413-dd79a766bb0a",
   "metadata": {},
   "outputs": [
    {
     "name": "stdout",
     "output_type": "stream",
     "text": [
      "Mean is :  4.175\n"
     ]
    },
    {
     "data": {
      "image/png": "[encoded data removed]",
      "text/plain": [
       "<Figure size 640x480 with 1 Axes>"
      ]
     },
     "metadata": {},
     "output_type": "display_data"
    }
   ],
   "source": [
    "data.Rating.hist(color='green')\n",
    "plt.axvline(x=data.Rating.mean(),ls='--',color='red')\n",
    "plt.title('Average Rating for Restaurants', weight='bold')\n",
    "plt.xlabel('Rating')\n",
    "plt.ylabel('No. of Restuarants')\n",
    "print(\"Mean is : \", data.Rating.mean())"
   ]
  },
  {
   "cell_type": "code",
   "execution_count": 195,
   "id": "bac78f4a-9c93-4287-ba11-515921d302b1",
   "metadata": {},
   "outputs": [
    {
     "data": {
      "text/plain": [
       "Nopa                                 1\n",
       "Phat Thai                            1\n",
       "Vons Chicken SF                      1\n",
       "Marthita's Restaurant                1\n",
       "Tacos El Primo                       1\n",
       "Vasquez Coffee Company               1\n",
       "Gaufre it!                           1\n",
       "Simply Delish                        1\n",
       "Bayview Bistro                       1\n",
       "Good Gai's                           1\n",
       "Wok-In Cafeteria                     1\n",
       "El Huarache Loco                     1\n",
       "Little Star Pizza - San Francisco    1\n",
       "Jasmine Tea House                    1\n",
       "Hina Yakitori                        1\n",
       "Copper Top Ovens                     1\n",
       "Horsefeather                         1\n",
       "Coco's Sushi & Izakaya               1\n",
       "Che Fico Alimentari                  1\n",
       "Soo Fong Restaurant                  1\n",
       "Name: RestaurantName, dtype: int64"
      ]
     },
     "execution_count": 195,
     "metadata": {},
     "output_type": "execute_result"
    }
   ],
   "source": [
    "# restaurants and their count\n",
    "data.RestaurantName.value_counts().head(20)"
   ]
  },
  {
   "cell_type": "code",
   "execution_count": 158,
   "id": "c00e0657-69e5-4988-9d5f-24e79c447bc1",
   "metadata": {},
   "outputs": [
    {
     "data": {
      "text/plain": [
       "Text(0.5, 1.0, 'Name Vs Count of Top 20 Restaurants')"
      ]
     },
     "execution_count": 158,
     "metadata": {},
     "output_type": "execute_result"
    },
    {
     "data": {
      "image/png": "[encoded data removed]",
      "text/plain": [
       "<Figure size 1200x600 with 1 Axes>"
      ]
     },
     "metadata": {},
     "output_type": "display_data"
    }
   ],
   "source": [
    "plt.figure(figsize=(12,6))\n",
    "ax=data.RestaurantName.value_counts()[:20].plot(kind='bar')\n",
    "ax.legend(['* Restaurants'])\n",
    "plt.xlabel('No. of Restuarants')\n",
    "plt.ylabel('Count of Restuarants')\n",
    "plt.title(\"Name Vs Count of Top 20 Restaurants\", fontsize=20, weight='bold')"
   ]
  },
  {
   "cell_type": "code",
   "execution_count": 159,
   "id": "4ba7e440-9796-43a4-89ff-8c901a484d88",
   "metadata": {},
   "outputs": [],
   "source": [
    "# Restaurants accepting orders online\n",
    "#plt.figure(figsize=(8,3))\n",
    "#ax =data.online_order.value_counts().plot(kind='bar')\n",
    "#plt.xlabel('Online Orders')\n",
    "#plt.ylabel('Count of Restuarants')\n",
    "#plt.title(\"Online Order Accepting Restaurants\", weight='bold')\n",
    "\n",
    "#data.online_order.value_counts()"
   ]
  },
  {
   "cell_type": "code",
   "execution_count": 160,
   "id": "13fde316-79e5-42c3-96d4-ebd75df25ace",
   "metadata": {},
   "outputs": [
    {
     "data": {
      "text/plain": [
       "Text(0.5, 1.0, 'Postal Code')"
      ]
     },
     "execution_count": 160,
     "metadata": {},
     "output_type": "execute_result"
    },
    {
     "data": {
      "image/png": "[encoded data removed]",
      "text/plain": [
       "<Figure size 800x800 with 1 Axes>"
      ]
     },
     "metadata": {},
     "output_type": "display_data"
    }
   ],
   "source": [
    "# Area having max number of restaurants\n",
    "plt.figure(figsize=(8,8))\n",
    "ax = data.PostalCode.value_counts().plot(kind='pie')\n",
    "plt.title('Postal Code',weight='bold')\n"
   ]
  },
  {
   "cell_type": "code",
   "execution_count": 161,
   "id": "d1270adf-bf78-4a4d-a23e-ceef77328419",
   "metadata": {},
   "outputs": [],
   "source": [
    "# As its complex to visualize, lets consider top 10 locations\n",
    "#plt.figure(figsize=(8,8))\n",
    "#ax = data.location.value_counts()[:10].plot(kind='pie')\n",
    "#plt.title('Location',weight='bold')"
   ]
  },
  {
   "cell_type": "code",
   "execution_count": 162,
   "id": "11884077-d7ec-4932-a1d1-b14140b5b538",
   "metadata": {},
   "outputs": [
    {
     "data": {
      "text/plain": [
       "Text(0, 0.5, 'Count')"
      ]
     },
     "execution_count": 162,
     "metadata": {},
     "output_type": "execute_result"
    },
    {
     "data": {
      "image/png": "[encoded data removed]",
      "text/plain": [
       "<Figure size 800x300 with 1 Axes>"
      ]
     },
     "metadata": {},
     "output_type": "display_data"
    }
   ],
   "source": [
    "plt.figure(figsize=(8,3))\n",
    "ax = data.PostalCode.value_counts()[:10].plot(kind='bar')\n",
    "plt.title('No. of Restaurants in given Postal Code',weight='bold')\n",
    "plt.xlabel('Area')\n",
    "plt.ylabel('Count')"
   ]
  },
  {
   "cell_type": "code",
   "execution_count": 165,
   "id": "5e1c26ef-5664-44bb-a9bf-3517774b21aa",
   "metadata": {},
   "outputs": [
    {
     "data": {
      "image/png": "[encoded data removed]",
      "text/plain": [
       "<Figure size 800x800 with 1 Axes>"
      ]
     },
     "metadata": {},
     "output_type": "display_data"
    }
   ],
   "source": [
    "# types of restaurants in an area\n",
    "plt.figure(figsize=(8,8))\n",
    "values = data.Cuisine.value_counts()[:20]\n",
    "labels = data['Cuisine'].value_counts()[:20].index\n",
    "plt.pie(values, labels=labels, autopct='%.2f')\n",
    "plt.title('Type of Restaurants in San Francisco(%)',weight='bold')\n",
    "plt.show()"
   ]
  },
  {
   "cell_type": "code",
   "execution_count": 168,
   "id": "8698f929-fa03-4380-adc8-f1b4b2ced77b",
   "metadata": {},
   "outputs": [],
   "source": [
    "# Average cost in restaurants for 2 people\n",
    "#plt.figure(figsize=(8,8))\n",
    "#values = data.PriceRange.value_counts()[:20]\n",
    "#labels = data['PriceRange'].value_counts()[:20].index\n",
    "#plt.pie(values, labels=labels, autopct='%.2f')\n",
    "#plt.title('Average cost for 2 people(%)',weight='bold')\n",
    "#plt.show()"
   ]
  },
  {
   "cell_type": "code",
   "execution_count": 88,
   "id": "bf66ca8d-23ec-43a8-b9e6-f05fb0c9ec95",
   "metadata": {},
   "outputs": [],
   "source": [
    "# Most favoured dishes\n"
   ]
  },
  {
   "cell_type": "code",
   "execution_count": 169,
   "id": "98a236c5-d275-4390-9068-666b24e75bdc",
   "metadata": {},
   "outputs": [],
   "source": [
    "#data.dish_liked.nunique()"
   ]
  },
  {
   "cell_type": "code",
   "execution_count": 170,
   "id": "591cba34-2dae-41c9-8de1-7ef0654f2a12",
   "metadata": {},
   "outputs": [],
   "source": [
    "#data1 = data.copy()\n",
    "\n",
    "#dishes_data = data1[data1.dish_liked.notnull()]\n",
    "#dishes_data.dish_liked = dishes_data.dish_liked.apply(lambda x:x.lower().strip())"
   ]
  },
  {
   "cell_type": "code",
   "execution_count": 171,
   "id": "15586942-d1cd-4546-b826-bfb19dc92ee3",
   "metadata": {},
   "outputs": [],
   "source": [
    "#dishes_data.isnull().sum()"
   ]
  },
  {
   "cell_type": "code",
   "execution_count": 174,
   "id": "fa825f04-0b87-4443-99d6-bb40992fd354",
   "metadata": {},
   "outputs": [],
   "source": [
    "# for better visualization of text\n",
    "#dish_count = []\n",
    "#for i in dishes_data.dish_liked: ## iterate in each rows\n",
    " #   for t in i.split(','):\n",
    "  #      t = t.strip() # remove white spaces\n",
    "   #     dish_count.append(t)"
   ]
  },
  {
   "cell_type": "code",
   "execution_count": 175,
   "id": "8b46fc01-6797-4186-8cb5-16a1928d51f2",
   "metadata": {},
   "outputs": [],
   "source": [
    "# Top 10 dishes favoured\n",
    "#dish_count[:10] "
   ]
  },
  {
   "cell_type": "code",
   "execution_count": 177,
   "id": "64aec839-d797-4863-9fb4-c978d548c523",
   "metadata": {},
   "outputs": [],
   "source": [
    "#plt.figure(figsize=(12,6))\n",
    "#pd.Series(dish_count).value_counts()[:10].plot(kind='bar')\n",
    "#plt.title('Top 10 favoured dishes in Banglore', weight='bold')\n",
    "#plt.xlabel('Dish')\n",
    "#plt.ylabel('Count')"
   ]
  },
  {
   "cell_type": "code",
   "execution_count": 179,
   "id": "1b15b439-5bc3-478d-b3b2-b81ec5e18f31",
   "metadata": {},
   "outputs": [
    {
     "data": {
      "image/png": "[encoded data removed]",
      "text/plain": [
       "<Figure size 1800x800 with 1 Axes>"
      ]
     },
     "metadata": {},
     "output_type": "display_data"
    }
   ],
   "source": [
    "# Rate VS Restaurant graph plot\n",
    "f, ax=plt.subplots(figsize=(18,8))\n",
    "g = sns.pointplot(x=data[\"Cuisine\"], y=data[\"Rating\"], data=data)\n",
    "g.set_xticklabels(g.get_xticklabels(), rotation=90)\n",
    "plt.title(\"Restaurant Types VS Rating\", weight='bold')\n",
    "plt.show()"
   ]
  },
  {
   "cell_type": "code",
   "execution_count": 180,
   "id": "3283a647-4015-4fff-a606-518608dae52d",
   "metadata": {},
   "outputs": [],
   "source": [
    "# Finding out top 10 cuisines\n",
    "cuisines_data = data[data.Cuisine.notnull()]\n",
    "cuisines_data.Cuisine = cuisines_data.Cuisine.apply(lambda x:x.lower().strip())"
   ]
  },
  {
   "cell_type": "code",
   "execution_count": 181,
   "id": "dfd85d4b-bcfb-4d6c-bd9d-3546037dc95c",
   "metadata": {},
   "outputs": [],
   "source": [
    "cuisines_count= []\n",
    "for i in cuisines_data.Cuisine:\n",
    "    for j in i.split(','):\n",
    "        j = j.strip()\n",
    "        cuisines_count.append(j)"
   ]
  },
  {
   "cell_type": "code",
   "execution_count": 188,
   "id": "2c2e900a-5cef-489a-ba8f-691560cd2daa",
   "metadata": {},
   "outputs": [
    {
     "data": {
      "text/plain": [
       "Text(0, 0.5, 'No. of restaurants')"
      ]
     },
     "execution_count": 188,
     "metadata": {},
     "output_type": "execute_result"
    },
    {
     "data": {
      "image/png": "[encoded data removed]",
      "text/plain": [
       "<Figure size 1200x600 with 1 Axes>"
      ]
     },
     "metadata": {},
     "output_type": "display_data"
    }
   ],
   "source": [
    "plt.figure(figsize=(12,6))\n",
    "pd.Series(cuisines_count).value_counts()[:20].plot(kind='bar', color ='green')\n",
    "plt.title('Top 20 Cuisines', weight='bold')\n",
    "plt.xlabel('Cuisine type')\n",
    "plt.ylabel('No. of restaurants')"
   ]
  },
  {
   "cell_type": "code",
   "execution_count": 189,
   "id": "068e48c3-5941-4c25-ac46-853414e85692",
   "metadata": {},
   "outputs": [
    {
     "data": {
      "text/html": [
       "<div>\n",
       "<style scoped>\n",
       "    .dataframe tbody tr th:only-of-type {\n",
       "        vertical-align: middle;\n",
       "    }\n",
       "\n",
       "    .dataframe tbody tr th {\n",
       "        vertical-align: top;\n",
       "    }\n",
       "\n",
       "    .dataframe thead th {\n",
       "        text-align: right;\n",
       "    }\n",
       "</style>\n",
       "<table border=\"1\" class=\"dataframe\">\n",
       "  <thead>\n",
       "    <tr style=\"text-align: right;\">\n",
       "      <th></th>\n",
       "      <th>RestaurantName</th>\n",
       "      <th>Address Line 1</th>\n",
       "      <th>City</th>\n",
       "      <th>State</th>\n",
       "      <th>PostalCode</th>\n",
       "      <th>Cuisine</th>\n",
       "      <th>Phone</th>\n",
       "      <th>StoreTiming-Mon</th>\n",
       "      <th>StoreTiming-Tue</th>\n",
       "      <th>StoreTiming-Wed</th>\n",
       "      <th>...</th>\n",
       "      <th>Claimed</th>\n",
       "      <th>Open Now (Y/N)</th>\n",
       "      <th>Payment Options (Black)</th>\n",
       "      <th>Category</th>\n",
       "      <th>website</th>\n",
       "      <th>Description</th>\n",
       "      <th>Refernce URL</th>\n",
       "      <th>black_owned</th>\n",
       "      <th>source</th>\n",
       "      <th>uid</th>\n",
       "    </tr>\n",
       "  </thead>\n",
       "  <tbody>\n",
       "    <tr>\n",
       "      <th>0</th>\n",
       "      <td>Nopa</td>\n",
       "      <td>560 Divisadero St</td>\n",
       "      <td>San Francisco</td>\n",
       "      <td>CA</td>\n",
       "      <td>94117</td>\n",
       "      <td>American (New), Desserts, Cocktail Bars</td>\n",
       "      <td>(415) 864-8643</td>\n",
       "      <td>Closed</td>\n",
       "      <td>5:30 PM - 10:00 PM</td>\n",
       "      <td>5:30 PM - 10:00 PM</td>\n",
       "      <td>...</td>\n",
       "      <td>Y</td>\n",
       "      <td>N</td>\n",
       "      <td>Accepts Credit Cards</td>\n",
       "      <td>Restaurants</td>\n",
       "      <td>nopasf.com</td>\n",
       "      <td>Specializing in organic wood-fired cuisine, we...</td>\n",
       "      <td>https://www.yelp.com/biz/nopa-san-francisco?os...</td>\n",
       "      <td>N</td>\n",
       "      <td>yelp.com</td>\n",
       "      <td>nopa-san-francisco?osq=Restaurants</td>\n",
       "    </tr>\n",
       "    <tr>\n",
       "      <th>1</th>\n",
       "      <td>Phat Thai</td>\n",
       "      <td>-</td>\n",
       "      <td>San Francisco</td>\n",
       "      <td>CA</td>\n",
       "      <td>94118</td>\n",
       "      <td>Thai, Food Trucks</td>\n",
       "      <td>(415) 684-4702</td>\n",
       "      <td>11:00 AM - 10:00 PM</td>\n",
       "      <td>11:00 AM - 10:00 PM</td>\n",
       "      <td>Closed</td>\n",
       "      <td>...</td>\n",
       "      <td>N</td>\n",
       "      <td>N</td>\n",
       "      <td>Accepts Credit Cards</td>\n",
       "      <td>Restaurants</td>\n",
       "      <td>phatthaisf.com</td>\n",
       "      <td>-</td>\n",
       "      <td>https://www.yelp.com/biz/phat-thai-san-francis...</td>\n",
       "      <td>N</td>\n",
       "      <td>yelp.com</td>\n",
       "      <td>phat-thai-san-francisco-2?osq=Restaurants</td>\n",
       "    </tr>\n",
       "    <tr>\n",
       "      <th>2</th>\n",
       "      <td>Che Fico Alimentari</td>\n",
       "      <td>834 Divisadero St</td>\n",
       "      <td>San Francisco</td>\n",
       "      <td>CA</td>\n",
       "      <td>94117</td>\n",
       "      <td>Italian</td>\n",
       "      <td>(415) 416-6980</td>\n",
       "      <td>5:00 PM - 9:00 PM</td>\n",
       "      <td>5:00 PM - 9:00 PM</td>\n",
       "      <td>5:00 PM - 9:00 PM</td>\n",
       "      <td>...</td>\n",
       "      <td>Y</td>\n",
       "      <td>N</td>\n",
       "      <td>Accepts Credit Cards</td>\n",
       "      <td>Restaurants</td>\n",
       "      <td>cheficoalimentari.com</td>\n",
       "      <td>-</td>\n",
       "      <td>https://www.yelp.com/biz/che-fico-alimentari-s...</td>\n",
       "      <td>N</td>\n",
       "      <td>yelp.com</td>\n",
       "      <td>che-fico-alimentari-san-francisco?osq=Restaurants</td>\n",
       "    </tr>\n",
       "    <tr>\n",
       "      <th>3</th>\n",
       "      <td>Coco's Sushi &amp; Izakaya</td>\n",
       "      <td>3319 Mission St</td>\n",
       "      <td>San Francisco</td>\n",
       "      <td>CA</td>\n",
       "      <td>94110</td>\n",
       "      <td>Sushi Bars</td>\n",
       "      <td>(415) 553-6062</td>\n",
       "      <td>11:00 AM - 8:30 PM</td>\n",
       "      <td>Closed</td>\n",
       "      <td>11:00 AM - 8:30 PM</td>\n",
       "      <td>...</td>\n",
       "      <td>Y</td>\n",
       "      <td>N</td>\n",
       "      <td>Accepts Credit Cards</td>\n",
       "      <td>Restaurants</td>\n",
       "      <td>cocosushiizakaya.com</td>\n",
       "      <td>-</td>\n",
       "      <td>https://www.yelp.com/biz/cocos-sushi-and-izaka...</td>\n",
       "      <td>N</td>\n",
       "      <td>yelp.com</td>\n",
       "      <td>cocos-sushi-and-izakaya-san-francisco?osq=Rest...</td>\n",
       "    </tr>\n",
       "    <tr>\n",
       "      <th>4</th>\n",
       "      <td>Horsefeather</td>\n",
       "      <td>528 Divisidero St</td>\n",
       "      <td>San Francisco</td>\n",
       "      <td>CA</td>\n",
       "      <td>94117</td>\n",
       "      <td>Cocktail Bars, American (New)</td>\n",
       "      <td>(415) 817-1939</td>\n",
       "      <td>2:00 PM - 12:00 AM</td>\n",
       "      <td>2:00 PM - 12:00 AM</td>\n",
       "      <td>2:00 PM - 12:00 AM</td>\n",
       "      <td>...</td>\n",
       "      <td>Y</td>\n",
       "      <td>N</td>\n",
       "      <td>Accepts Credit Cards</td>\n",
       "      <td>Restaurants</td>\n",
       "      <td>horsefeatherbar.com</td>\n",
       "      <td>-</td>\n",
       "      <td>https://www.yelp.com/biz/horsefeather-san-fran...</td>\n",
       "      <td>N</td>\n",
       "      <td>yelp.com</td>\n",
       "      <td>horsefeather-san-francisco-2?osq=Restaurants</td>\n",
       "    </tr>\n",
       "    <tr>\n",
       "      <th>5</th>\n",
       "      <td>Copper Top Ovens</td>\n",
       "      <td>100 Alemany Blvd</td>\n",
       "      <td>San Francisco</td>\n",
       "      <td>CA</td>\n",
       "      <td>94110</td>\n",
       "      <td>Pizza, Food Stands</td>\n",
       "      <td>(510) 708-5040</td>\n",
       "      <td>Closed</td>\n",
       "      <td>Closed</td>\n",
       "      <td>Closed</td>\n",
       "      <td>...</td>\n",
       "      <td>N</td>\n",
       "      <td>N</td>\n",
       "      <td>-</td>\n",
       "      <td>Restaurants</td>\n",
       "      <td>coppertopovens.com</td>\n",
       "      <td>-</td>\n",
       "      <td>https://www.yelp.com/biz/copper-top-ovens-san-...</td>\n",
       "      <td>N</td>\n",
       "      <td>yelp.com</td>\n",
       "      <td>copper-top-ovens-san-francisco?osq=Restaurants</td>\n",
       "    </tr>\n",
       "    <tr>\n",
       "      <th>6</th>\n",
       "      <td>Hina Yakitori</td>\n",
       "      <td>808 Divisadero St</td>\n",
       "      <td>San Francisco</td>\n",
       "      <td>CA</td>\n",
       "      <td>94117</td>\n",
       "      <td>Japanese</td>\n",
       "      <td>(415) 817-1944</td>\n",
       "      <td>Closed</td>\n",
       "      <td>4:30 PM - 10:00 PM</td>\n",
       "      <td>4:30 PM - 10:00 PM</td>\n",
       "      <td>...</td>\n",
       "      <td>Y</td>\n",
       "      <td>N</td>\n",
       "      <td>Accepts Credit Cards</td>\n",
       "      <td>Restaurants</td>\n",
       "      <td>hinasf.com</td>\n",
       "      <td>-</td>\n",
       "      <td>https://www.yelp.com/biz/hina-yakitori-san-fra...</td>\n",
       "      <td>N</td>\n",
       "      <td>yelp.com</td>\n",
       "      <td>hina-yakitori-san-francisco-2?osq=Restaurants</td>\n",
       "    </tr>\n",
       "    <tr>\n",
       "      <th>7</th>\n",
       "      <td>Jasmine Tea House</td>\n",
       "      <td>3259 Mission St</td>\n",
       "      <td>San Francisco</td>\n",
       "      <td>CA</td>\n",
       "      <td>94110</td>\n",
       "      <td>Chinese</td>\n",
       "      <td>(415) 826-6288</td>\n",
       "      <td>11:00 AM - 9:30 PM</td>\n",
       "      <td>11:00 AM - 9:30 PM</td>\n",
       "      <td>11:00 AM - 9:30 PM</td>\n",
       "      <td>...</td>\n",
       "      <td>Y</td>\n",
       "      <td>N</td>\n",
       "      <td>Accepts Credit Cards</td>\n",
       "      <td>Restaurants</td>\n",
       "      <td>jasmineteatogo.com</td>\n",
       "      <td>Business owner information\\n\\n\\t\\n\\nKenneth X....</td>\n",
       "      <td>https://www.yelp.com/biz/jasmine-tea-house-san...</td>\n",
       "      <td>N</td>\n",
       "      <td>yelp.com</td>\n",
       "      <td>jasmine-tea-house-san-francisco?osq=Restaurants</td>\n",
       "    </tr>\n",
       "    <tr>\n",
       "      <th>8</th>\n",
       "      <td>Little Star Pizza - San Francisco</td>\n",
       "      <td>846 Divisadero St</td>\n",
       "      <td>San Francisco</td>\n",
       "      <td>CA</td>\n",
       "      <td>94117</td>\n",
       "      <td>Pizza, Italian, Bars</td>\n",
       "      <td>(415) 441-1118</td>\n",
       "      <td>5:00 PM - 9:00 PM</td>\n",
       "      <td>5:00 PM - 9:00 PM</td>\n",
       "      <td>5:00 PM - 9:00 PM</td>\n",
       "      <td>...</td>\n",
       "      <td>Y</td>\n",
       "      <td>N</td>\n",
       "      <td>Accepts Credit Cards</td>\n",
       "      <td>Restaurants</td>\n",
       "      <td>littlestarpizza.com</td>\n",
       "      <td>Open since 2004, Little Star Pizza Divisadero ...</td>\n",
       "      <td>https://www.yelp.com/biz/little-star-pizza-san...</td>\n",
       "      <td>N</td>\n",
       "      <td>yelp.com</td>\n",
       "      <td>little-star-pizza-san-francisco-san-francisco?...</td>\n",
       "    </tr>\n",
       "    <tr>\n",
       "      <th>9</th>\n",
       "      <td>El Huarache Loco</td>\n",
       "      <td>100 Alemany Blvd</td>\n",
       "      <td>San Francisco</td>\n",
       "      <td>CA</td>\n",
       "      <td>94110</td>\n",
       "      <td>Mexican</td>\n",
       "      <td>-</td>\n",
       "      <td>Closed</td>\n",
       "      <td>Closed</td>\n",
       "      <td>Closed</td>\n",
       "      <td>...</td>\n",
       "      <td>Y</td>\n",
       "      <td>N</td>\n",
       "      <td>-</td>\n",
       "      <td>Restaurants</td>\n",
       "      <td>huaracheloco.com</td>\n",
       "      <td>-</td>\n",
       "      <td>https://www.yelp.com/biz/el-huarache-loco-san-...</td>\n",
       "      <td>N</td>\n",
       "      <td>yelp.com</td>\n",
       "      <td>el-huarache-loco-san-francisco?osq=Restaurants</td>\n",
       "    </tr>\n",
       "    <tr>\n",
       "      <th>10</th>\n",
       "      <td>Wok-In Cafeteria</td>\n",
       "      <td>50 Mendell St</td>\n",
       "      <td>San Francisco</td>\n",
       "      <td>CA</td>\n",
       "      <td>94124</td>\n",
       "      <td>Chinese, American (Traditional)</td>\n",
       "      <td>(415) 550-7200</td>\n",
       "      <td>8:30 AM - 9:00 PM</td>\n",
       "      <td>8:30 AM - 9:00 PM</td>\n",
       "      <td>8:30 AM - 9:00 PM</td>\n",
       "      <td>...</td>\n",
       "      <td>N</td>\n",
       "      <td>N</td>\n",
       "      <td>Accepts Credit Cards</td>\n",
       "      <td>Restaurants</td>\n",
       "      <td>wokincafeteriasanfrancisco.mil…</td>\n",
       "      <td>-</td>\n",
       "      <td>https://www.yelp.com/biz/wok-in-cafeteria-san-...</td>\n",
       "      <td>N</td>\n",
       "      <td>yelp.com</td>\n",
       "      <td>wok-in-cafeteria-san-francisco?osq=Restaurants</td>\n",
       "    </tr>\n",
       "    <tr>\n",
       "      <th>11</th>\n",
       "      <td>Good Gai's</td>\n",
       "      <td>2723 Oakdale Ave</td>\n",
       "      <td>San Francisco</td>\n",
       "      <td>CA</td>\n",
       "      <td>94124</td>\n",
       "      <td>Chicken Shop, Salad, Burgers</td>\n",
       "      <td>(415) 796-3906</td>\n",
       "      <td>11:00 AM - 4:00 PM</td>\n",
       "      <td>11:00 AM - 4:00 PM</td>\n",
       "      <td>11:00 AM - 4:00 PM</td>\n",
       "      <td>...</td>\n",
       "      <td>Y</td>\n",
       "      <td>N</td>\n",
       "      <td>Accepts Credit Cards</td>\n",
       "      <td>Restaurants</td>\n",
       "      <td>eatgoodgais.com</td>\n",
       "      <td>New business serving San Francisco city locate...</td>\n",
       "      <td>https://www.yelp.com/biz/good-gais-san-francis...</td>\n",
       "      <td>N</td>\n",
       "      <td>yelp.com</td>\n",
       "      <td>good-gais-san-francisco-3?osq=Restaurants</td>\n",
       "    </tr>\n",
       "    <tr>\n",
       "      <th>12</th>\n",
       "      <td>Bayview Bistro</td>\n",
       "      <td>4101 3rd St</td>\n",
       "      <td>San Francisco</td>\n",
       "      <td>CA</td>\n",
       "      <td>94124</td>\n",
       "      <td>Food Trucks, Pop-Up Restaurants</td>\n",
       "      <td>(415) 206-1936</td>\n",
       "      <td>Closed</td>\n",
       "      <td>Closed</td>\n",
       "      <td>11:00 AM - 2:00 PM</td>\n",
       "      <td>...</td>\n",
       "      <td>N</td>\n",
       "      <td>N</td>\n",
       "      <td>-</td>\n",
       "      <td>Restaurants</td>\n",
       "      <td>bayviewbistrosf.com</td>\n",
       "      <td>Food hub featuring a rotating line-up of local...</td>\n",
       "      <td>https://www.yelp.com/biz/bayview-bistro-san-fr...</td>\n",
       "      <td>N</td>\n",
       "      <td>yelp.com</td>\n",
       "      <td>bayview-bistro-san-francisco?osq=Restaurants</td>\n",
       "    </tr>\n",
       "    <tr>\n",
       "      <th>13</th>\n",
       "      <td>Simply Delish</td>\n",
       "      <td>5698 3rd St</td>\n",
       "      <td>San Francisco</td>\n",
       "      <td>CA</td>\n",
       "      <td>94124</td>\n",
       "      <td>Thai, Asian Fusion, Burgers</td>\n",
       "      <td>(415) 529-1649</td>\n",
       "      <td>7:00 AM - 3:00 PM</td>\n",
       "      <td>7:00 AM - 3:00 PM</td>\n",
       "      <td>7:00 AM - 3:00 PM</td>\n",
       "      <td>...</td>\n",
       "      <td>Y</td>\n",
       "      <td>Y</td>\n",
       "      <td>Accepts Credit Cards</td>\n",
       "      <td>Restaurants</td>\n",
       "      <td>simplydelishsf.com/home</td>\n",
       "      <td>Thai Food, Takeout, Party Trays\\n\\nRead more</td>\n",
       "      <td>https://www.yelp.com/biz/simply-delish-san-fra...</td>\n",
       "      <td>N</td>\n",
       "      <td>yelp.com</td>\n",
       "      <td>simply-delish-san-francisco-4?osq=Restaurants</td>\n",
       "    </tr>\n",
       "    <tr>\n",
       "      <th>14</th>\n",
       "      <td>Gaufre it!</td>\n",
       "      <td>110 Robinson St</td>\n",
       "      <td>San Francisco</td>\n",
       "      <td>CA</td>\n",
       "      <td>94124</td>\n",
       "      <td>Desserts, American (New)</td>\n",
       "      <td>-</td>\n",
       "      <td>-</td>\n",
       "      <td>-</td>\n",
       "      <td>-</td>\n",
       "      <td>...</td>\n",
       "      <td>N</td>\n",
       "      <td>-</td>\n",
       "      <td>Accepts Credit Cards</td>\n",
       "      <td>Restaurants</td>\n",
       "      <td>gaufreitsf.com</td>\n",
       "      <td>The best LIege waffles this side of the Rocky ...</td>\n",
       "      <td>https://www.yelp.com/biz/gaufre-it-san-francis...</td>\n",
       "      <td>N</td>\n",
       "      <td>yelp.com</td>\n",
       "      <td>gaufre-it-san-francisco?osq=Restaurants</td>\n",
       "    </tr>\n",
       "    <tr>\n",
       "      <th>15</th>\n",
       "      <td>Vasquez Coffee Company</td>\n",
       "      <td>50 Mendell St</td>\n",
       "      <td>San Francisco</td>\n",
       "      <td>CA</td>\n",
       "      <td>94124</td>\n",
       "      <td>Cafes</td>\n",
       "      <td>(415) 824-2925</td>\n",
       "      <td>6:30 AM - 3:00 PM</td>\n",
       "      <td>6:30 AM - 3:00 PM</td>\n",
       "      <td>6:30 AM - 3:00 PM</td>\n",
       "      <td>...</td>\n",
       "      <td>N</td>\n",
       "      <td>Y</td>\n",
       "      <td>Accepts Credit Cards</td>\n",
       "      <td>Restaurants</td>\n",
       "      <td>vasquezcoffee.com</td>\n",
       "      <td>-</td>\n",
       "      <td>https://www.yelp.com/biz/vasquez-coffee-compan...</td>\n",
       "      <td>N</td>\n",
       "      <td>yelp.com</td>\n",
       "      <td>vasquez-coffee-company-san-francisco?osq=Resta...</td>\n",
       "    </tr>\n",
       "    <tr>\n",
       "      <th>16</th>\n",
       "      <td>Tacos El Primo</td>\n",
       "      <td>1500 Yosemite Ave</td>\n",
       "      <td>San Francisco</td>\n",
       "      <td>CA</td>\n",
       "      <td>94124</td>\n",
       "      <td>Mexican, Food Trucks</td>\n",
       "      <td>(415) 846-4975</td>\n",
       "      <td>7:00 AM - 5:00 PM</td>\n",
       "      <td>7:00 AM - 5:00 PM</td>\n",
       "      <td>7:00 AM - 5:00 PM</td>\n",
       "      <td>...</td>\n",
       "      <td>N</td>\n",
       "      <td>Y</td>\n",
       "      <td>Accepts Credit Cards</td>\n",
       "      <td>Restaurants</td>\n",
       "      <td>tacoselprimo2.netwaiter.com/sa…</td>\n",
       "      <td>-</td>\n",
       "      <td>https://www.yelp.com/biz/tacos-el-primo-san-fr...</td>\n",
       "      <td>N</td>\n",
       "      <td>yelp.com</td>\n",
       "      <td>tacos-el-primo-san-francisco-2?osq=Restaurants</td>\n",
       "    </tr>\n",
       "    <tr>\n",
       "      <th>17</th>\n",
       "      <td>Marthita's Restaurant</td>\n",
       "      <td>1401 Egbert Ave</td>\n",
       "      <td>San Francisco</td>\n",
       "      <td>CA</td>\n",
       "      <td>94124</td>\n",
       "      <td>Mexican</td>\n",
       "      <td>(415) 874-9235</td>\n",
       "      <td>5:00 AM - 4:00 PM</td>\n",
       "      <td>5:00 AM - 4:00 PM</td>\n",
       "      <td>5:00 AM - 4:00 PM</td>\n",
       "      <td>...</td>\n",
       "      <td>Y</td>\n",
       "      <td>Y</td>\n",
       "      <td>Accepts Credit Cards</td>\n",
       "      <td>Restaurants</td>\n",
       "      <td>-</td>\n",
       "      <td>Business owner information\\n\\n\\t\\n\\nLesvia A.\\...</td>\n",
       "      <td>https://www.yelp.com/biz/marthitas-restaurant-...</td>\n",
       "      <td>N</td>\n",
       "      <td>yelp.com</td>\n",
       "      <td>marthitas-restaurant-san-francisco?osq=Restaur...</td>\n",
       "    </tr>\n",
       "    <tr>\n",
       "      <th>18</th>\n",
       "      <td>Vons Chicken SF</td>\n",
       "      <td>90 Charter Oak Ave</td>\n",
       "      <td>San Francisco</td>\n",
       "      <td>CA</td>\n",
       "      <td>94124</td>\n",
       "      <td>Korean, Chicken Wings, Food Delivery Services</td>\n",
       "      <td>(415) 960-8989</td>\n",
       "      <td>11:00 AM - 9:00 PM</td>\n",
       "      <td>11:00 AM - 9:00 PM</td>\n",
       "      <td>11:00 AM - 9:00 PM</td>\n",
       "      <td>...</td>\n",
       "      <td>Y</td>\n",
       "      <td>N</td>\n",
       "      <td>Accepts Credit Cards</td>\n",
       "      <td>Restaurants</td>\n",
       "      <td>vonschickensf.com</td>\n",
       "      <td>-</td>\n",
       "      <td>https://www.yelp.com/biz/vons-chicken-sf-san-f...</td>\n",
       "      <td>N</td>\n",
       "      <td>yelp.com</td>\n",
       "      <td>vons-chicken-sf-san-francisco?osq=Restaurants</td>\n",
       "    </tr>\n",
       "    <tr>\n",
       "      <th>19</th>\n",
       "      <td>Soo Fong Restaurant</td>\n",
       "      <td>3801 3rd St</td>\n",
       "      <td>San Francisco</td>\n",
       "      <td>CA</td>\n",
       "      <td>94124</td>\n",
       "      <td>Chinese</td>\n",
       "      <td>(415) 285-2828</td>\n",
       "      <td>10:30 AM - 8:30 PM</td>\n",
       "      <td>10:30 AM - 8:30 PM</td>\n",
       "      <td>10:30 AM - 8:30 PM</td>\n",
       "      <td>...</td>\n",
       "      <td>Y</td>\n",
       "      <td>N</td>\n",
       "      <td>Accepts Credit Cards</td>\n",
       "      <td>Restaurants</td>\n",
       "      <td>-</td>\n",
       "      <td>Established in 1989. Been open since 1989 and ...</td>\n",
       "      <td>https://www.yelp.com/biz/soo-fong-restaurant-s...</td>\n",
       "      <td>N</td>\n",
       "      <td>yelp.com</td>\n",
       "      <td>soo-fong-restaurant-san-francisco-2?osq=Restau...</td>\n",
       "    </tr>\n",
       "  </tbody>\n",
       "</table>\n",
       "<p>20 rows × 94 columns</p>\n",
       "</div>"
      ],
      "text/plain": [
       "                       RestaurantName      Address Line 1           City  \\\n",
       "0                                Nopa   560 Divisadero St  San Francisco   \n",
       "1                           Phat Thai                   -  San Francisco   \n",
       "2                 Che Fico Alimentari   834 Divisadero St  San Francisco   \n",
       "3              Coco's Sushi & Izakaya     3319 Mission St  San Francisco   \n",
       "4                        Horsefeather   528 Divisidero St  San Francisco   \n",
       "5                    Copper Top Ovens    100 Alemany Blvd  San Francisco   \n",
       "6                       Hina Yakitori   808 Divisadero St  San Francisco   \n",
       "7                   Jasmine Tea House     3259 Mission St  San Francisco   \n",
       "8   Little Star Pizza - San Francisco   846 Divisadero St  San Francisco   \n",
       "9                    El Huarache Loco    100 Alemany Blvd  San Francisco   \n",
       "10                   Wok-In Cafeteria       50 Mendell St  San Francisco   \n",
       "11                         Good Gai's    2723 Oakdale Ave  San Francisco   \n",
       "12                     Bayview Bistro         4101 3rd St  San Francisco   \n",
       "13                      Simply Delish         5698 3rd St  San Francisco   \n",
       "14                         Gaufre it!     110 Robinson St  San Francisco   \n",
       "15             Vasquez Coffee Company       50 Mendell St  San Francisco   \n",
       "16                     Tacos El Primo   1500 Yosemite Ave  San Francisco   \n",
       "17              Marthita's Restaurant     1401 Egbert Ave  San Francisco   \n",
       "18                    Vons Chicken SF  90 Charter Oak Ave  San Francisco   \n",
       "19                Soo Fong Restaurant         3801 3rd St  San Francisco   \n",
       "\n",
       "   State  PostalCode                                        Cuisine  \\\n",
       "0     CA       94117        American (New), Desserts, Cocktail Bars   \n",
       "1     CA       94118                              Thai, Food Trucks   \n",
       "2     CA       94117                                        Italian   \n",
       "3     CA       94110                                     Sushi Bars   \n",
       "4     CA       94117                  Cocktail Bars, American (New)   \n",
       "5     CA       94110                             Pizza, Food Stands   \n",
       "6     CA       94117                                       Japanese   \n",
       "7     CA       94110                                        Chinese   \n",
       "8     CA       94117                           Pizza, Italian, Bars   \n",
       "9     CA       94110                                        Mexican   \n",
       "10    CA       94124                Chinese, American (Traditional)   \n",
       "11    CA       94124                   Chicken Shop, Salad, Burgers   \n",
       "12    CA       94124                Food Trucks, Pop-Up Restaurants   \n",
       "13    CA       94124                    Thai, Asian Fusion, Burgers   \n",
       "14    CA       94124                       Desserts, American (New)   \n",
       "15    CA       94124                                          Cafes   \n",
       "16    CA       94124                           Mexican, Food Trucks   \n",
       "17    CA       94124                                        Mexican   \n",
       "18    CA       94124  Korean, Chicken Wings, Food Delivery Services   \n",
       "19    CA       94124                                        Chinese   \n",
       "\n",
       "             Phone      StoreTiming-Mon      StoreTiming-Tue  \\\n",
       "0   (415) 864-8643               Closed   5:30 PM - 10:00 PM   \n",
       "1   (415) 684-4702  11:00 AM - 10:00 PM  11:00 AM - 10:00 PM   \n",
       "2   (415) 416-6980    5:00 PM - 9:00 PM    5:00 PM - 9:00 PM   \n",
       "3   (415) 553-6062   11:00 AM - 8:30 PM               Closed   \n",
       "4   (415) 817-1939   2:00 PM - 12:00 AM   2:00 PM - 12:00 AM   \n",
       "5   (510) 708-5040               Closed               Closed   \n",
       "6   (415) 817-1944               Closed   4:30 PM - 10:00 PM   \n",
       "7   (415) 826-6288   11:00 AM - 9:30 PM   11:00 AM - 9:30 PM   \n",
       "8   (415) 441-1118    5:00 PM - 9:00 PM    5:00 PM - 9:00 PM   \n",
       "9                -               Closed               Closed   \n",
       "10  (415) 550-7200    8:30 AM - 9:00 PM    8:30 AM - 9:00 PM   \n",
       "11  (415) 796-3906   11:00 AM - 4:00 PM   11:00 AM - 4:00 PM   \n",
       "12  (415) 206-1936               Closed               Closed   \n",
       "13  (415) 529-1649    7:00 AM - 3:00 PM    7:00 AM - 3:00 PM   \n",
       "14               -                    -                    -   \n",
       "15  (415) 824-2925    6:30 AM - 3:00 PM    6:30 AM - 3:00 PM   \n",
       "16  (415) 846-4975    7:00 AM - 5:00 PM    7:00 AM - 5:00 PM   \n",
       "17  (415) 874-9235    5:00 AM - 4:00 PM    5:00 AM - 4:00 PM   \n",
       "18  (415) 960-8989   11:00 AM - 9:00 PM   11:00 AM - 9:00 PM   \n",
       "19  (415) 285-2828   10:30 AM - 8:30 PM   10:30 AM - 8:30 PM   \n",
       "\n",
       "       StoreTiming-Wed  ... Claimed Open Now (Y/N) Payment Options (Black)  \\\n",
       "0   5:30 PM - 10:00 PM  ...       Y              N    Accepts Credit Cards   \n",
       "1               Closed  ...       N              N    Accepts Credit Cards   \n",
       "2    5:00 PM - 9:00 PM  ...       Y              N    Accepts Credit Cards   \n",
       "3   11:00 AM - 8:30 PM  ...       Y              N    Accepts Credit Cards   \n",
       "4   2:00 PM - 12:00 AM  ...       Y              N    Accepts Credit Cards   \n",
       "5               Closed  ...       N              N                       -   \n",
       "6   4:30 PM - 10:00 PM  ...       Y              N    Accepts Credit Cards   \n",
       "7   11:00 AM - 9:30 PM  ...       Y              N    Accepts Credit Cards   \n",
       "8    5:00 PM - 9:00 PM  ...       Y              N    Accepts Credit Cards   \n",
       "9               Closed  ...       Y              N                       -   \n",
       "10   8:30 AM - 9:00 PM  ...       N              N    Accepts Credit Cards   \n",
       "11  11:00 AM - 4:00 PM  ...       Y              N    Accepts Credit Cards   \n",
       "12  11:00 AM - 2:00 PM  ...       N              N                       -   \n",
       "13   7:00 AM - 3:00 PM  ...       Y              Y    Accepts Credit Cards   \n",
       "14                   -  ...       N              -    Accepts Credit Cards   \n",
       "15   6:30 AM - 3:00 PM  ...       N              Y    Accepts Credit Cards   \n",
       "16   7:00 AM - 5:00 PM  ...       N              Y    Accepts Credit Cards   \n",
       "17   5:00 AM - 4:00 PM  ...       Y              Y    Accepts Credit Cards   \n",
       "18  11:00 AM - 9:00 PM  ...       Y              N    Accepts Credit Cards   \n",
       "19  10:30 AM - 8:30 PM  ...       Y              N    Accepts Credit Cards   \n",
       "\n",
       "       Category                          website  \\\n",
       "0   Restaurants                       nopasf.com   \n",
       "1   Restaurants                   phatthaisf.com   \n",
       "2   Restaurants            cheficoalimentari.com   \n",
       "3   Restaurants             cocosushiizakaya.com   \n",
       "4   Restaurants              horsefeatherbar.com   \n",
       "5   Restaurants               coppertopovens.com   \n",
       "6   Restaurants                       hinasf.com   \n",
       "7   Restaurants               jasmineteatogo.com   \n",
       "8   Restaurants              littlestarpizza.com   \n",
       "9   Restaurants                 huaracheloco.com   \n",
       "10  Restaurants  wokincafeteriasanfrancisco.mil…   \n",
       "11  Restaurants                  eatgoodgais.com   \n",
       "12  Restaurants              bayviewbistrosf.com   \n",
       "13  Restaurants          simplydelishsf.com/home   \n",
       "14  Restaurants                   gaufreitsf.com   \n",
       "15  Restaurants                vasquezcoffee.com   \n",
       "16  Restaurants  tacoselprimo2.netwaiter.com/sa…   \n",
       "17  Restaurants                                -   \n",
       "18  Restaurants                vonschickensf.com   \n",
       "19  Restaurants                                -   \n",
       "\n",
       "                                          Description  \\\n",
       "0   Specializing in organic wood-fired cuisine, we...   \n",
       "1                                                   -   \n",
       "2                                                   -   \n",
       "3                                                   -   \n",
       "4                                                   -   \n",
       "5                                                   -   \n",
       "6                                                   -   \n",
       "7   Business owner information\\n\\n\\t\\n\\nKenneth X....   \n",
       "8   Open since 2004, Little Star Pizza Divisadero ...   \n",
       "9                                                   -   \n",
       "10                                                  -   \n",
       "11  New business serving San Francisco city locate...   \n",
       "12  Food hub featuring a rotating line-up of local...   \n",
       "13       Thai Food, Takeout, Party Trays\\n\\nRead more   \n",
       "14  The best LIege waffles this side of the Rocky ...   \n",
       "15                                                  -   \n",
       "16                                                  -   \n",
       "17  Business owner information\\n\\n\\t\\n\\nLesvia A.\\...   \n",
       "18                                                  -   \n",
       "19  Established in 1989. Been open since 1989 and ...   \n",
       "\n",
       "                                         Refernce URL black_owned    source  \\\n",
       "0   https://www.yelp.com/biz/nopa-san-francisco?os...           N  yelp.com   \n",
       "1   https://www.yelp.com/biz/phat-thai-san-francis...           N  yelp.com   \n",
       "2   https://www.yelp.com/biz/che-fico-alimentari-s...           N  yelp.com   \n",
       "3   https://www.yelp.com/biz/cocos-sushi-and-izaka...           N  yelp.com   \n",
       "4   https://www.yelp.com/biz/horsefeather-san-fran...           N  yelp.com   \n",
       "5   https://www.yelp.com/biz/copper-top-ovens-san-...           N  yelp.com   \n",
       "6   https://www.yelp.com/biz/hina-yakitori-san-fra...           N  yelp.com   \n",
       "7   https://www.yelp.com/biz/jasmine-tea-house-san...           N  yelp.com   \n",
       "8   https://www.yelp.com/biz/little-star-pizza-san...           N  yelp.com   \n",
       "9   https://www.yelp.com/biz/el-huarache-loco-san-...           N  yelp.com   \n",
       "10  https://www.yelp.com/biz/wok-in-cafeteria-san-...           N  yelp.com   \n",
       "11  https://www.yelp.com/biz/good-gais-san-francis...           N  yelp.com   \n",
       "12  https://www.yelp.com/biz/bayview-bistro-san-fr...           N  yelp.com   \n",
       "13  https://www.yelp.com/biz/simply-delish-san-fra...           N  yelp.com   \n",
       "14  https://www.yelp.com/biz/gaufre-it-san-francis...           N  yelp.com   \n",
       "15  https://www.yelp.com/biz/vasquez-coffee-compan...           N  yelp.com   \n",
       "16  https://www.yelp.com/biz/tacos-el-primo-san-fr...           N  yelp.com   \n",
       "17  https://www.yelp.com/biz/marthitas-restaurant-...           N  yelp.com   \n",
       "18  https://www.yelp.com/biz/vons-chicken-sf-san-f...           N  yelp.com   \n",
       "19  https://www.yelp.com/biz/soo-fong-restaurant-s...           N  yelp.com   \n",
       "\n",
       "                                                  uid  \n",
       "0                  nopa-san-francisco?osq=Restaurants  \n",
       "1           phat-thai-san-francisco-2?osq=Restaurants  \n",
       "2   che-fico-alimentari-san-francisco?osq=Restaurants  \n",
       "3   cocos-sushi-and-izakaya-san-francisco?osq=Rest...  \n",
       "4        horsefeather-san-francisco-2?osq=Restaurants  \n",
       "5      copper-top-ovens-san-francisco?osq=Restaurants  \n",
       "6       hina-yakitori-san-francisco-2?osq=Restaurants  \n",
       "7     jasmine-tea-house-san-francisco?osq=Restaurants  \n",
       "8   little-star-pizza-san-francisco-san-francisco?...  \n",
       "9      el-huarache-loco-san-francisco?osq=Restaurants  \n",
       "10     wok-in-cafeteria-san-francisco?osq=Restaurants  \n",
       "11          good-gais-san-francisco-3?osq=Restaurants  \n",
       "12       bayview-bistro-san-francisco?osq=Restaurants  \n",
       "13      simply-delish-san-francisco-4?osq=Restaurants  \n",
       "14            gaufre-it-san-francisco?osq=Restaurants  \n",
       "15  vasquez-coffee-company-san-francisco?osq=Resta...  \n",
       "16     tacos-el-primo-san-francisco-2?osq=Restaurants  \n",
       "17  marthitas-restaurant-san-francisco?osq=Restaur...  \n",
       "18      vons-chicken-sf-san-francisco?osq=Restaurants  \n",
       "19  soo-fong-restaurant-san-francisco-2?osq=Restau...  \n",
       "\n",
       "[20 rows x 94 columns]"
      ]
     },
     "execution_count": 189,
     "metadata": {},
     "output_type": "execute_result"
    }
   ],
   "source": [
    "## Now we are going to build a proper Machine Learning model as data visualization stage is done for having an overview\n",
    "# pd.get_dummies ==> Converts categorical variable into dummy/indicator variables.(One Hot Encoding)\n",
    "#data['online_order']= pd.get_dummies(data.online_order, drop_first=True)\n",
    "#data['book_table'] = pd.get_dummies(data.book_table, drop_first=True)\n",
    "data"
   ]
  },
  {
   "cell_type": "code",
   "execution_count": 190,
   "id": "4994d3b1-3634-4735-bf78-6be1e105d9f4",
   "metadata": {},
   "outputs": [
    {
     "data": {
      "text/plain": [
       "Index(['RestaurantName', 'Address Line 1', 'City', 'State', 'PostalCode',\n",
       "       'Cuisine', 'Phone', 'StoreTiming-Mon', 'StoreTiming-Tue',\n",
       "       'StoreTiming-Wed', 'StoreTiming-Thu', 'StoreTiming-Fri',\n",
       "       'StoreTiming-Sat', 'StoreTiming-Sun', 'PriceRange', 'Rating',\n",
       "       'No of Ratings', 'Rating 1', 'Review1', 'Date1', 'Rating2', 'Review2',\n",
       "       'Date2', 'Rating3', 'Review3', 'Date3', 'Rating4', 'Review4', 'Date4',\n",
       "       'Rating5', 'Review5', 'Date5', 'Rating6', 'Review6', 'Date6', 'Rating7',\n",
       "       'Review7', 'Date7', 'Rating8', 'Review8', 'Date8', 'Rating9', 'Review9',\n",
       "       'Date9', 'Rating10', 'Review10', 'Date10', 'Rating11', 'Review11',\n",
       "       'Date11', 'Rating12', 'Review12', 'Date12', 'Rating13', 'Review13',\n",
       "       'Date13', 'Rating14', 'Review14', 'Date14', 'Rating15', 'Review15',\n",
       "       'Date15', 'Rating16', 'Review16', 'Date16', 'Rating17', 'Review17',\n",
       "       'Date17', 'Rating18', 'Review18', 'Date18', 'Rating19', 'Review19',\n",
       "       'Date19', 'Rating20', 'Review20', 'Date20', 'Special Hours', 'Notes',\n",
       "       'Covid Related Info', 'Additional', 'Pickup/Takeout', 'Delivery',\n",
       "       'Dine In/Reservation', 'Claimed', 'Open Now (Y/N)',\n",
       "       'Payment Options (Black)', 'Category', 'website', 'Description',\n",
       "       'Refernce URL', 'black_owned', 'source', 'uid'],\n",
       "      dtype='object')"
      ]
     },
     "execution_count": 190,
     "metadata": {},
     "output_type": "execute_result"
    }
   ],
   "source": [
    "data.columns"
   ]
  },
  {
   "cell_type": "code",
   "execution_count": 191,
   "id": "8331e232-d59b-493d-ae3f-ecca75437024",
   "metadata": {},
   "outputs": [],
   "source": [
    "# Drop not needed columns\n",
    "#data.drop(columns=['dish_liked', 'reviews_list', 'menu_item', 'listed_in(type)'], inplace=True)"
   ]
  },
  {
   "cell_type": "code",
   "execution_count": 192,
   "id": "93b781a3-e71e-428a-ad89-16e7537ab400",
   "metadata": {},
   "outputs": [
    {
     "data": {
      "text/plain": [
       "Mexican                           2\n",
       "Chinese                           2\n",
       "(Traditional) American Chinese    1\n",
       "Food Mexican Trucks               1\n",
       "Cafes                             1\n",
       "Name: Cuisine, dtype: int64"
      ]
     },
     "execution_count": 192,
     "metadata": {},
     "output_type": "execute_result"
    }
   ],
   "source": [
    "# Precise list by removing unwanted characs\n",
    "data['Cuisine'] = data['Cuisine'].str.replace(',' , '')\n",
    "data['Cuisine'] = data['Cuisine'].astype(str).apply(lambda x: ' '.join(sorted(x.split())))\n",
    "data['Cuisine'].value_counts().head()"
   ]
  },
  {
   "cell_type": "code",
   "execution_count": 193,
   "id": "6f694ec7-7f83-4dd4-b652-4f999c6a04bb",
   "metadata": {},
   "outputs": [
    {
     "data": {
      "text/plain": [
       "$       8\n",
       "$$      7\n",
       "$$$     2\n",
       "-       2\n",
       "$$$$    1\n",
       "Name: PriceRange, dtype: int64"
      ]
     },
     "execution_count": 193,
     "metadata": {},
     "output_type": "execute_result"
    }
   ],
   "source": [
    "# Count of Restaurants based on Price Range\n",
    "data['PriceRange'] = data['PriceRange'].str.replace(',' , '')\n",
    "data['PriceRange'] = data['PriceRange'].astype(str).apply(lambda x: ' '.join(sorted(x.split())))\n",
    "data['PriceRange'].value_counts().head()"
   ]
  },
  {
   "cell_type": "code",
   "execution_count": 201,
   "id": "8fd5ed78-5939-4041-abba-d1fb39120bb1",
   "metadata": {},
   "outputs": [
    {
     "ename": "TypeError",
     "evalue": "Neither the `x` nor `y` variable appears to be numeric.",
     "output_type": "error",
     "traceback": [
      "\u001b[1;31m---------------------------------------------------------------------------\u001b[0m",
      "\u001b[1;31mTypeError\u001b[0m                                 Traceback (most recent call last)",
      "Cell \u001b[1;32mIn[201], line 3\u001b[0m\n\u001b[0;32m      1\u001b[0m \u001b[38;5;66;03m# Price Band VS Restaurant graph plot\u001b[39;00m\n\u001b[0;32m      2\u001b[0m f, ax\u001b[38;5;241m=\u001b[39mplt\u001b[38;5;241m.\u001b[39msubplots(figsize\u001b[38;5;241m=\u001b[39m(\u001b[38;5;241m18\u001b[39m,\u001b[38;5;241m8\u001b[39m))\n\u001b[1;32m----> 3\u001b[0m g \u001b[38;5;241m=\u001b[39m \u001b[43msns\u001b[49m\u001b[38;5;241;43m.\u001b[39;49m\u001b[43mpointplot\u001b[49m\u001b[43m(\u001b[49m\u001b[43my\u001b[49m\u001b[38;5;241;43m=\u001b[39;49m\u001b[43mdata\u001b[49m\u001b[43m[\u001b[49m\u001b[38;5;124;43m\"\u001b[39;49m\u001b[38;5;124;43mCuisine\u001b[39;49m\u001b[38;5;124;43m\"\u001b[39;49m\u001b[43m]\u001b[49m\u001b[43m,\u001b[49m\u001b[43m \u001b[49m\u001b[43mx\u001b[49m\u001b[38;5;241;43m=\u001b[39;49m\u001b[43mdata\u001b[49m\u001b[43m[\u001b[49m\u001b[38;5;124;43m\"\u001b[39;49m\u001b[38;5;124;43mPriceRange\u001b[39;49m\u001b[38;5;124;43m\"\u001b[39;49m\u001b[43m]\u001b[49m\u001b[43m,\u001b[49m\u001b[43m \u001b[49m\u001b[43mdata\u001b[49m\u001b[38;5;241;43m=\u001b[39;49m\u001b[43mdata\u001b[49m\u001b[43m)\u001b[49m\n\u001b[0;32m      4\u001b[0m g\u001b[38;5;241m.\u001b[39mset_xticklabels(g\u001b[38;5;241m.\u001b[39mget_xticklabels(), rotation\u001b[38;5;241m=\u001b[39m\u001b[38;5;241m90\u001b[39m)\n\u001b[0;32m      5\u001b[0m plt\u001b[38;5;241m.\u001b[39mtitle(\u001b[38;5;124m\"\u001b[39m\u001b[38;5;124mRestaurant Types VS Rating\u001b[39m\u001b[38;5;124m\"\u001b[39m, weight\u001b[38;5;241m=\u001b[39m\u001b[38;5;124m'\u001b[39m\u001b[38;5;124mbold\u001b[39m\u001b[38;5;124m'\u001b[39m)\n",
      "File \u001b[1;32m~\\AppData\\Local\\Programs\\Python\\Python310\\lib\\site-packages\\seaborn\\categorical.py:2838\u001b[0m, in \u001b[0;36mpointplot\u001b[1;34m(data, x, y, hue, order, hue_order, estimator, errorbar, n_boot, units, seed, markers, linestyles, dodge, join, scale, orient, color, palette, errwidth, ci, capsize, label, ax)\u001b[0m\n\u001b[0;32m   2828\u001b[0m \u001b[38;5;28;01mdef\u001b[39;00m \u001b[38;5;21mpointplot\u001b[39m(\n\u001b[0;32m   2829\u001b[0m     data\u001b[38;5;241m=\u001b[39m\u001b[38;5;28;01mNone\u001b[39;00m, \u001b[38;5;241m*\u001b[39m, x\u001b[38;5;241m=\u001b[39m\u001b[38;5;28;01mNone\u001b[39;00m, y\u001b[38;5;241m=\u001b[39m\u001b[38;5;28;01mNone\u001b[39;00m, hue\u001b[38;5;241m=\u001b[39m\u001b[38;5;28;01mNone\u001b[39;00m, order\u001b[38;5;241m=\u001b[39m\u001b[38;5;28;01mNone\u001b[39;00m, hue_order\u001b[38;5;241m=\u001b[39m\u001b[38;5;28;01mNone\u001b[39;00m,\n\u001b[0;32m   2830\u001b[0m     estimator\u001b[38;5;241m=\u001b[39m\u001b[38;5;124m\"\u001b[39m\u001b[38;5;124mmean\u001b[39m\u001b[38;5;124m\"\u001b[39m, errorbar\u001b[38;5;241m=\u001b[39m(\u001b[38;5;124m\"\u001b[39m\u001b[38;5;124mci\u001b[39m\u001b[38;5;124m\"\u001b[39m, \u001b[38;5;241m95\u001b[39m), n_boot\u001b[38;5;241m=\u001b[39m\u001b[38;5;241m1000\u001b[39m, units\u001b[38;5;241m=\u001b[39m\u001b[38;5;28;01mNone\u001b[39;00m, seed\u001b[38;5;241m=\u001b[39m\u001b[38;5;28;01mNone\u001b[39;00m,\n\u001b[1;32m   (...)\u001b[0m\n\u001b[0;32m   2833\u001b[0m     capsize\u001b[38;5;241m=\u001b[39m\u001b[38;5;28;01mNone\u001b[39;00m, label\u001b[38;5;241m=\u001b[39m\u001b[38;5;28;01mNone\u001b[39;00m, ax\u001b[38;5;241m=\u001b[39m\u001b[38;5;28;01mNone\u001b[39;00m,\n\u001b[0;32m   2834\u001b[0m ):\n\u001b[0;32m   2836\u001b[0m     errorbar \u001b[38;5;241m=\u001b[39m utils\u001b[38;5;241m.\u001b[39m_deprecate_ci(errorbar, ci)\n\u001b[1;32m-> 2838\u001b[0m     plotter \u001b[38;5;241m=\u001b[39m \u001b[43m_PointPlotter\u001b[49m\u001b[43m(\u001b[49m\u001b[43mx\u001b[49m\u001b[43m,\u001b[49m\u001b[43m \u001b[49m\u001b[43my\u001b[49m\u001b[43m,\u001b[49m\u001b[43m \u001b[49m\u001b[43mhue\u001b[49m\u001b[43m,\u001b[49m\u001b[43m \u001b[49m\u001b[43mdata\u001b[49m\u001b[43m,\u001b[49m\u001b[43m \u001b[49m\u001b[43morder\u001b[49m\u001b[43m,\u001b[49m\u001b[43m \u001b[49m\u001b[43mhue_order\u001b[49m\u001b[43m,\u001b[49m\n\u001b[0;32m   2839\u001b[0m \u001b[43m                            \u001b[49m\u001b[43mestimator\u001b[49m\u001b[43m,\u001b[49m\u001b[43m \u001b[49m\u001b[43merrorbar\u001b[49m\u001b[43m,\u001b[49m\u001b[43m \u001b[49m\u001b[43mn_boot\u001b[49m\u001b[43m,\u001b[49m\u001b[43m \u001b[49m\u001b[43munits\u001b[49m\u001b[43m,\u001b[49m\u001b[43m \u001b[49m\u001b[43mseed\u001b[49m\u001b[43m,\u001b[49m\n\u001b[0;32m   2840\u001b[0m \u001b[43m                            \u001b[49m\u001b[43mmarkers\u001b[49m\u001b[43m,\u001b[49m\u001b[43m \u001b[49m\u001b[43mlinestyles\u001b[49m\u001b[43m,\u001b[49m\u001b[43m \u001b[49m\u001b[43mdodge\u001b[49m\u001b[43m,\u001b[49m\u001b[43m \u001b[49m\u001b[43mjoin\u001b[49m\u001b[43m,\u001b[49m\u001b[43m \u001b[49m\u001b[43mscale\u001b[49m\u001b[43m,\u001b[49m\n\u001b[0;32m   2841\u001b[0m \u001b[43m                            \u001b[49m\u001b[43morient\u001b[49m\u001b[43m,\u001b[49m\u001b[43m \u001b[49m\u001b[43mcolor\u001b[49m\u001b[43m,\u001b[49m\u001b[43m \u001b[49m\u001b[43mpalette\u001b[49m\u001b[43m,\u001b[49m\u001b[43m \u001b[49m\u001b[43merrwidth\u001b[49m\u001b[43m,\u001b[49m\u001b[43m \u001b[49m\u001b[43mcapsize\u001b[49m\u001b[43m,\u001b[49m\u001b[43m \u001b[49m\u001b[43mlabel\u001b[49m\u001b[43m)\u001b[49m\n\u001b[0;32m   2843\u001b[0m     \u001b[38;5;28;01mif\u001b[39;00m ax \u001b[38;5;129;01mis\u001b[39;00m \u001b[38;5;28;01mNone\u001b[39;00m:\n\u001b[0;32m   2844\u001b[0m         ax \u001b[38;5;241m=\u001b[39m plt\u001b[38;5;241m.\u001b[39mgca()\n",
      "File \u001b[1;32m~\\AppData\\Local\\Programs\\Python\\Python310\\lib\\site-packages\\seaborn\\categorical.py:1601\u001b[0m, in \u001b[0;36m_PointPlotter.__init__\u001b[1;34m(self, x, y, hue, data, order, hue_order, estimator, errorbar, n_boot, units, seed, markers, linestyles, dodge, join, scale, orient, color, palette, errwidth, capsize, label)\u001b[0m\n\u001b[0;32m   1596\u001b[0m \u001b[38;5;28;01mdef\u001b[39;00m \u001b[38;5;21m__init__\u001b[39m(\u001b[38;5;28mself\u001b[39m, x, y, hue, data, order, hue_order,\n\u001b[0;32m   1597\u001b[0m              estimator, errorbar, n_boot, units, seed,\n\u001b[0;32m   1598\u001b[0m              markers, linestyles, dodge, join, scale,\n\u001b[0;32m   1599\u001b[0m              orient, color, palette, errwidth, capsize, label):\n\u001b[0;32m   1600\u001b[0m     \u001b[38;5;124;03m\"\"\"Initialize the plotter.\"\"\"\u001b[39;00m\n\u001b[1;32m-> 1601\u001b[0m     \u001b[38;5;28;43mself\u001b[39;49m\u001b[38;5;241;43m.\u001b[39;49m\u001b[43mestablish_variables\u001b[49m\u001b[43m(\u001b[49m\u001b[43mx\u001b[49m\u001b[43m,\u001b[49m\u001b[43m \u001b[49m\u001b[43my\u001b[49m\u001b[43m,\u001b[49m\u001b[43m \u001b[49m\u001b[43mhue\u001b[49m\u001b[43m,\u001b[49m\u001b[43m \u001b[49m\u001b[43mdata\u001b[49m\u001b[43m,\u001b[49m\u001b[43m \u001b[49m\u001b[43morient\u001b[49m\u001b[43m,\u001b[49m\n\u001b[0;32m   1602\u001b[0m \u001b[43m                             \u001b[49m\u001b[43morder\u001b[49m\u001b[43m,\u001b[49m\u001b[43m \u001b[49m\u001b[43mhue_order\u001b[49m\u001b[43m,\u001b[49m\u001b[43m \u001b[49m\u001b[43munits\u001b[49m\u001b[43m)\u001b[49m\n\u001b[0;32m   1603\u001b[0m     \u001b[38;5;28mself\u001b[39m\u001b[38;5;241m.\u001b[39mestablish_colors(color, palette, \u001b[38;5;241m1\u001b[39m)\n\u001b[0;32m   1604\u001b[0m     \u001b[38;5;28mself\u001b[39m\u001b[38;5;241m.\u001b[39mestimate_statistic(estimator, errorbar, n_boot, seed)\n",
      "File \u001b[1;32m~\\AppData\\Local\\Programs\\Python\\Python310\\lib\\site-packages\\seaborn\\categorical.py:544\u001b[0m, in \u001b[0;36m_CategoricalPlotter.establish_variables\u001b[1;34m(self, x, y, hue, data, orient, order, hue_order, units)\u001b[0m\n\u001b[0;32m    541\u001b[0m         \u001b[38;5;28;01mraise\u001b[39;00m \u001b[38;5;167;01mValueError\u001b[39;00m(err)\n\u001b[0;32m    543\u001b[0m \u001b[38;5;66;03m# Figure out the plotting orientation\u001b[39;00m\n\u001b[1;32m--> 544\u001b[0m orient \u001b[38;5;241m=\u001b[39m \u001b[43minfer_orient\u001b[49m\u001b[43m(\u001b[49m\n\u001b[0;32m    545\u001b[0m \u001b[43m    \u001b[49m\u001b[43mx\u001b[49m\u001b[43m,\u001b[49m\u001b[43m \u001b[49m\u001b[43my\u001b[49m\u001b[43m,\u001b[49m\u001b[43m \u001b[49m\u001b[43morient\u001b[49m\u001b[43m,\u001b[49m\u001b[43m \u001b[49m\u001b[43mrequire_numeric\u001b[49m\u001b[38;5;241;43m=\u001b[39;49m\u001b[38;5;28;43mself\u001b[39;49m\u001b[38;5;241;43m.\u001b[39;49m\u001b[43mrequire_numeric\u001b[49m\n\u001b[0;32m    546\u001b[0m \u001b[43m\u001b[49m\u001b[43m)\u001b[49m\n\u001b[0;32m    548\u001b[0m \u001b[38;5;66;03m# Option 2a:\u001b[39;00m\n\u001b[0;32m    549\u001b[0m \u001b[38;5;66;03m# We are plotting a single set of data\u001b[39;00m\n\u001b[0;32m    550\u001b[0m \u001b[38;5;66;03m# ------------------------------------\u001b[39;00m\n\u001b[0;32m    551\u001b[0m \u001b[38;5;28;01mif\u001b[39;00m x \u001b[38;5;129;01mis\u001b[39;00m \u001b[38;5;28;01mNone\u001b[39;00m \u001b[38;5;129;01mor\u001b[39;00m y \u001b[38;5;129;01mis\u001b[39;00m \u001b[38;5;28;01mNone\u001b[39;00m:\n\u001b[0;32m    552\u001b[0m \n\u001b[0;32m    553\u001b[0m     \u001b[38;5;66;03m# Determine where the data are\u001b[39;00m\n",
      "File \u001b[1;32m~\\AppData\\Local\\Programs\\Python\\Python310\\lib\\site-packages\\seaborn\\_oldcore.py:1632\u001b[0m, in \u001b[0;36minfer_orient\u001b[1;34m(x, y, orient, require_numeric)\u001b[0m\n\u001b[0;32m   1630\u001b[0m \u001b[38;5;28;01melif\u001b[39;00m require_numeric \u001b[38;5;129;01mand\u001b[39;00m \u001b[38;5;124m\"\u001b[39m\u001b[38;5;124mnumeric\u001b[39m\u001b[38;5;124m\"\u001b[39m \u001b[38;5;129;01mnot\u001b[39;00m \u001b[38;5;129;01min\u001b[39;00m (x_type, y_type):\n\u001b[0;32m   1631\u001b[0m     err \u001b[38;5;241m=\u001b[39m \u001b[38;5;124m\"\u001b[39m\u001b[38;5;124mNeither the `x` nor `y` variable appears to be numeric.\u001b[39m\u001b[38;5;124m\"\u001b[39m\n\u001b[1;32m-> 1632\u001b[0m     \u001b[38;5;28;01mraise\u001b[39;00m \u001b[38;5;167;01mTypeError\u001b[39;00m(err)\n\u001b[0;32m   1634\u001b[0m \u001b[38;5;28;01melse\u001b[39;00m:\n\u001b[0;32m   1635\u001b[0m     \u001b[38;5;28;01mreturn\u001b[39;00m \u001b[38;5;124m\"\u001b[39m\u001b[38;5;124mv\u001b[39m\u001b[38;5;124m\"\u001b[39m\n",
      "\u001b[1;31mTypeError\u001b[0m: Neither the `x` nor `y` variable appears to be numeric."
     ]
    },
    {
     "data": {
      "image/png": "[encoded data removed]",
      "text/plain": [
       "<Figure size 1800x800 with 1 Axes>"
      ]
     },
     "metadata": {},
     "output_type": "display_data"
    }
   ],
   "source": [
    "# Price Band VS Restaurant graph plot\n",
    "f, ax=plt.subplots(figsize=(18,8))\n",
    "g = sns.pointplot(x=data[\"Cuisine\"], y=data[\"PriceRange\"], data=data)\n",
    "g.set_xticklabels(g.get_xticklabels(), rotation=90)\n",
    "plt.title(\"Restaurant Types VS Rating\", weight='bold')\n",
    "plt.show()"
   ]
  },
  {
   "cell_type": "code",
   "execution_count": 111,
   "id": "4bb6c8d1-7feb-46aa-a05e-d4157d7634dc",
   "metadata": {},
   "outputs": [
    {
     "data": {
      "text/html": [
       "<div>\n",
       "<style scoped>\n",
       "    .dataframe tbody tr th:only-of-type {\n",
       "        vertical-align: middle;\n",
       "    }\n",
       "\n",
       "    .dataframe tbody tr th {\n",
       "        vertical-align: top;\n",
       "    }\n",
       "\n",
       "    .dataframe thead th {\n",
       "        text-align: right;\n",
       "    }\n",
       "</style>\n",
       "<table border=\"1\" class=\"dataframe\">\n",
       "  <thead>\n",
       "    <tr style=\"text-align: right;\">\n",
       "      <th></th>\n",
       "      <th>name</th>\n",
       "      <th>online_order</th>\n",
       "      <th>book_table</th>\n",
       "      <th>rate</th>\n",
       "      <th>votes</th>\n",
       "      <th>location</th>\n",
       "      <th>rest_type</th>\n",
       "      <th>cuisines</th>\n",
       "      <th>average_cost</th>\n",
       "      <th>process_text</th>\n",
       "    </tr>\n",
       "  </thead>\n",
       "  <tbody>\n",
       "    <tr>\n",
       "      <th>0</th>\n",
       "      <td>Jalsa</td>\n",
       "      <td>1</td>\n",
       "      <td>1</td>\n",
       "      <td>4.1</td>\n",
       "      <td>775</td>\n",
       "      <td>Banashankari</td>\n",
       "      <td>Casual Dining</td>\n",
       "      <td>Chinese Indian Mughlai North</td>\n",
       "      <td>800</td>\n",
       "      <td>a beautiful place to dine inthe interiors take...</td>\n",
       "    </tr>\n",
       "    <tr>\n",
       "      <th>1</th>\n",
       "      <td>Spice Elephant</td>\n",
       "      <td>1</td>\n",
       "      <td>0</td>\n",
       "      <td>4.1</td>\n",
       "      <td>787</td>\n",
       "      <td>Banashankari</td>\n",
       "      <td>Casual Dining</td>\n",
       "      <td>Chinese Indian North Thai</td>\n",
       "      <td>800</td>\n",
       "      <td>had been here for dinner with family turned ou...</td>\n",
       "    </tr>\n",
       "    <tr>\n",
       "      <th>2</th>\n",
       "      <td>San Churro Cafe</td>\n",
       "      <td>1</td>\n",
       "      <td>0</td>\n",
       "      <td>3.8</td>\n",
       "      <td>918</td>\n",
       "      <td>Banashankari</td>\n",
       "      <td>Cafe Casual Dining</td>\n",
       "      <td>Cafe Italian Mexican</td>\n",
       "      <td>800</td>\n",
       "      <td>ambience is not that good enough and it's not ...</td>\n",
       "    </tr>\n",
       "  </tbody>\n",
       "</table>\n",
       "</div>"
      ],
      "text/plain": [
       "              name  online_order  book_table  rate  votes      location  \\\n",
       "0            Jalsa             1           1   4.1    775  Banashankari   \n",
       "1   Spice Elephant             1           0   4.1    787  Banashankari   \n",
       "2  San Churro Cafe             1           0   3.8    918  Banashankari   \n",
       "\n",
       "            rest_type                      cuisines  average_cost  \\\n",
       "0       Casual Dining  Chinese Indian Mughlai North           800   \n",
       "1       Casual Dining     Chinese Indian North Thai           800   \n",
       "2  Cafe Casual Dining          Cafe Italian Mexican           800   \n",
       "\n",
       "                                        process_text  \n",
       "0  a beautiful place to dine inthe interiors take...  \n",
       "1  had been here for dinner with family turned ou...  \n",
       "2  ambience is not that good enough and it's not ...  "
      ]
     },
     "execution_count": 111,
     "metadata": {},
     "output_type": "execute_result"
    }
   ],
   "source": [
    "data.head(3)"
   ]
  },
  {
   "cell_type": "code",
   "execution_count": 112,
   "id": "0c25d69f-32c4-4718-a508-d9e3474638ef",
   "metadata": {},
   "outputs": [],
   "source": [
    "# x and y datasets\n",
    "x = data.drop(['rate','name'],axis=1)\n",
    "y = data['rate']"
   ]
  },
  {
   "cell_type": "code",
   "execution_count": 113,
   "id": "f5167e4d-6bd4-491f-a76d-133e939e09be",
   "metadata": {},
   "outputs": [],
   "source": [
    "# Splitting data for building the model"
   ]
  },
  {
   "cell_type": "code",
   "execution_count": 119,
   "id": "82b41f7c-8f01-4f2f-83f9-e3b5ca0c6bd3",
   "metadata": {},
   "outputs": [],
   "source": [
    "from sklearn.model_selection import train_test_split\n",
    "X_train, X_test, y_train, y_test = train_test_split(x,y,test_size = 0.3, random_state = 33)"
   ]
  },
  {
   "cell_type": "code",
   "execution_count": 121,
   "id": "e7eaf7a3-a505-4d10-bb5b-f3fafe0946ff",
   "metadata": {},
   "outputs": [
    {
     "ename": "FileNotFoundError",
     "evalue": "[Errno 2] No such file or directory: 'fyp_1/more_feature_X_train'",
     "output_type": "error",
     "traceback": [
      "\u001b[1;31m---------------------------------------------------------------------------\u001b[0m",
      "\u001b[1;31mFileNotFoundError\u001b[0m                         Traceback (most recent call last)",
      "Cell \u001b[1;32mIn[121], line 2\u001b[0m\n\u001b[0;32m      1\u001b[0m \u001b[38;5;66;03m# save to local disk\u001b[39;00m\n\u001b[1;32m----> 2\u001b[0m \u001b[43mdump\u001b[49m\u001b[43m(\u001b[49m\u001b[43mX_train\u001b[49m\u001b[43m,\u001b[49m\u001b[43m \u001b[49m\u001b[38;5;124;43m'\u001b[39;49m\u001b[38;5;124;43mfyp_1/more_feature_X_train\u001b[39;49m\u001b[38;5;124;43m'\u001b[39;49m\u001b[43m)\u001b[49m\n\u001b[0;32m      3\u001b[0m dump(X_test, \u001b[38;5;124m'\u001b[39m\u001b[38;5;124mfyp_1/more_feature_X_test\u001b[39m\u001b[38;5;124m'\u001b[39m)\n\u001b[0;32m      4\u001b[0m dump(y_train, \u001b[38;5;124m'\u001b[39m\u001b[38;5;124mfyp_1/more_feature_y_train\u001b[39m\u001b[38;5;124m'\u001b[39m)\n",
      "File \u001b[1;32m~\\AppData\\Local\\Programs\\Python\\Python310\\lib\\site-packages\\joblib\\numpy_pickle.py:552\u001b[0m, in \u001b[0;36mdump\u001b[1;34m(value, filename, compress, protocol, cache_size)\u001b[0m\n\u001b[0;32m    550\u001b[0m         NumpyPickler(f, protocol\u001b[38;5;241m=\u001b[39mprotocol)\u001b[38;5;241m.\u001b[39mdump(value)\n\u001b[0;32m    551\u001b[0m \u001b[38;5;28;01melif\u001b[39;00m is_filename:\n\u001b[1;32m--> 552\u001b[0m     \u001b[38;5;28;01mwith\u001b[39;00m \u001b[38;5;28;43mopen\u001b[39;49m\u001b[43m(\u001b[49m\u001b[43mfilename\u001b[49m\u001b[43m,\u001b[49m\u001b[43m \u001b[49m\u001b[38;5;124;43m'\u001b[39;49m\u001b[38;5;124;43mwb\u001b[39;49m\u001b[38;5;124;43m'\u001b[39;49m\u001b[43m)\u001b[49m \u001b[38;5;28;01mas\u001b[39;00m f:\n\u001b[0;32m    553\u001b[0m         NumpyPickler(f, protocol\u001b[38;5;241m=\u001b[39mprotocol)\u001b[38;5;241m.\u001b[39mdump(value)\n\u001b[0;32m    554\u001b[0m \u001b[38;5;28;01melse\u001b[39;00m:\n",
      "\u001b[1;31mFileNotFoundError\u001b[0m: [Errno 2] No such file or directory: 'fyp_1/more_feature_X_train'"
     ]
    }
   ],
   "source": [
    "# save to local disk\n",
    "dump(X_train, 'fyp_1/more_feature_X_train')\n",
    "dump(X_test, 'fyp_1/more_feature_X_test')\n",
    "dump(y_train, 'fyp_1/more_feature_y_train')\n",
    "dump(y_test, 'fyp_1/more_feature_y_test')"
   ]
  },
  {
   "cell_type": "code",
   "execution_count": null,
   "id": "c65d039f-65b6-45d5-9585-c9f396c353c6",
   "metadata": {},
   "outputs": [],
   "source": []
  }
 ],
 "metadata": {
  "kernelspec": {
   "display_name": "Python 3 (ipykernel)",
   "language": "python",
   "name": "python3"
  },
  "language_info": {
   "codemirror_mode": {
    "name": "ipython",
    "version": 3
   },
   "file_extension": ".py",
   "mimetype": "text/x-python",
   "name": "python",
   "nbconvert_exporter": "python",
   "pygments_lexer": "ipython3",
   "version": "3.10.5"
  }
 },
 "nbformat": 4,
 "nbformat_minor": 5
}
